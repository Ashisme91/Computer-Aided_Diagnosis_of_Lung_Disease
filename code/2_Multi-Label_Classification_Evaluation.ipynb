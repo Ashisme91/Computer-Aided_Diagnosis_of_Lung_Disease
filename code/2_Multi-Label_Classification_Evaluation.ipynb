{
 "cells": [
  {
   "cell_type": "markdown",
   "metadata": {
    "id": "uuUJ2n9MwBhX"
   },
   "source": [
    "## Install Necessary Packages"
   ]
  },
  {
   "cell_type": "code",
   "execution_count": 1,
   "metadata": {
    "execution": {
     "iopub.execute_input": "2021-09-07T13:07:31.710338Z",
     "iopub.status.busy": "2021-09-07T13:07:31.709939Z",
     "iopub.status.idle": "2021-09-07T13:07:39.804684Z",
     "shell.execute_reply": "2021-09-07T13:07:39.803568Z",
     "shell.execute_reply.started": "2021-09-07T13:07:31.710251Z"
    },
    "executionInfo": {
     "elapsed": 3730,
     "status": "ok",
     "timestamp": 1630831070969,
     "user": {
      "displayName": "Ash Ang",
      "photoUrl": "",
      "userId": "09723206866093977201"
     },
     "user_tz": -480
    },
    "id": "9dh3oMq4xIKs",
    "outputId": "e557dca0-7e0f-4807-c694-b3c78666617c"
   },
   "outputs": [
    {
     "name": "stdout",
     "output_type": "stream",
     "text": [
      "Requirement already satisfied: iterative-stratification in /home/daryl/anaconda3/envs/tfsandbox/lib/python3.8/site-packages (0.1.6)\n",
      "Requirement already satisfied: scipy in /home/daryl/anaconda3/envs/tfsandbox/lib/python3.8/site-packages (from iterative-stratification) (1.6.2)\n",
      "Requirement already satisfied: scikit-learn in /home/daryl/anaconda3/envs/tfsandbox/lib/python3.8/site-packages (from iterative-stratification) (0.24.1)\n",
      "Requirement already satisfied: numpy in /home/daryl/anaconda3/envs/tfsandbox/lib/python3.8/site-packages (from iterative-stratification) (1.20.1)\n",
      "Requirement already satisfied: joblib>=0.11 in /home/daryl/anaconda3/envs/tfsandbox/lib/python3.8/site-packages (from scikit-learn->iterative-stratification) (1.0.1)\n",
      "Requirement already satisfied: threadpoolctl>=2.0.0 in /home/daryl/anaconda3/envs/tfsandbox/lib/python3.8/site-packages (from scikit-learn->iterative-stratification) (2.1.0)\n",
      "Note: you may need to restart the kernel to use updated packages.\n"
     ]
    }
   ],
   "source": [
    "pip install iterative-stratification"
   ]
  },
  {
   "cell_type": "markdown",
   "metadata": {},
   "source": [
    "## **Import Libraries**"
   ]
  },
  {
   "cell_type": "code",
   "execution_count": 2,
   "metadata": {
    "execution": {
     "iopub.execute_input": "2021-09-07T13:07:39.808049Z",
     "iopub.status.busy": "2021-09-07T13:07:39.807777Z",
     "iopub.status.idle": "2021-09-07T13:07:44.765144Z",
     "shell.execute_reply": "2021-09-07T13:07:44.764280Z",
     "shell.execute_reply.started": "2021-09-07T13:07:39.808010Z"
    },
    "executionInfo": {
     "elapsed": 1950,
     "status": "ok",
     "timestamp": 1630831072915,
     "user": {
      "displayName": "Ash Ang",
      "photoUrl": "",
      "userId": "09723206866093977201"
     },
     "user_tz": -480
    },
    "id": "WRneAqOvvYGi"
   },
   "outputs": [],
   "source": [
    "from PIL import Image\n",
    "from itertools import chain\n",
    "import glob\n",
    "import os\n",
    "os.environ[\"CUDA_VISIBLE_DEVICES\"] = '1'\n",
    "\n",
    "import numpy as np\n",
    "import pandas as pd\n",
    "import matplotlib.pyplot as plt\n",
    "\n",
    "import tensorflow as tf\n",
    "from iterstrat.ml_stratifiers import MultilabelStratifiedKFold\n",
    "from tensorflow.keras.layers import Conv2D, BatchNormalization, MaxPooling2D, Flatten, Dense, Dropout\n",
    "from tensorflow.keras.callbacks import ReduceLROnPlateau, EarlyStopping\n",
    "from sklearn.metrics import multilabel_confusion_matrix\n",
    "from sklearn.metrics import classification_report"
   ]
  },
  {
   "cell_type": "code",
   "execution_count": 3,
   "metadata": {},
   "outputs": [],
   "source": [
    "# Define hyperparameters\n",
    "batch_size = 64 # number of samples that will be propagated through the network\n",
    "lr = 1e-4 \n",
    "epoch = 12 # number of times learning algorithm will work need through the entire training dataset.\n",
    "schedule = 'polynomial' # learning rate schedule"
   ]
  },
  {
   "cell_type": "code",
   "execution_count": 4,
   "metadata": {
    "execution": {
     "iopub.execute_input": "2021-09-07T13:07:44.775246Z",
     "iopub.status.busy": "2021-09-07T13:07:44.773228Z",
     "iopub.status.idle": "2021-09-07T13:07:44.989831Z",
     "shell.execute_reply": "2021-09-07T13:07:44.989001Z",
     "shell.execute_reply.started": "2021-09-07T13:07:44.775205Z"
    },
    "executionInfo": {
     "elapsed": 16,
     "status": "ok",
     "timestamp": 1630831072924,
     "user": {
      "displayName": "Ash Ang",
      "photoUrl": "",
      "userId": "09723206866093977201"
     },
     "user_tz": -480
    },
    "id": "ckLAT5M0wU9x"
   },
   "outputs": [],
   "source": [
    "# Load data\n",
    "data_dir = \"../data\"\n",
    "train_labels = pd.read_csv(f'{data_dir}/train.csv')"
   ]
  },
  {
   "cell_type": "code",
   "execution_count": 5,
   "metadata": {
    "execution": {
     "iopub.execute_input": "2021-09-07T13:07:44.991664Z",
     "iopub.status.busy": "2021-09-07T13:07:44.991321Z",
     "iopub.status.idle": "2021-09-07T13:07:45.021752Z",
     "shell.execute_reply": "2021-09-07T13:07:45.020718Z",
     "shell.execute_reply.started": "2021-09-07T13:07:44.991626Z"
    },
    "executionInfo": {
     "elapsed": 16,
     "status": "ok",
     "timestamp": 1630831072926,
     "user": {
      "displayName": "Ash Ang",
      "photoUrl": "",
      "userId": "09723206866093977201"
     },
     "user_tz": -480
    },
    "id": "LQo7JeV5wc4F",
    "outputId": "ffe98fda-12e7-4559-d7bc-56ff5f823686"
   },
   "outputs": [
    {
     "data": {
      "text/html": [
       "<div>\n",
       "<style scoped>\n",
       "    .dataframe tbody tr th:only-of-type {\n",
       "        vertical-align: middle;\n",
       "    }\n",
       "\n",
       "    .dataframe tbody tr th {\n",
       "        vertical-align: top;\n",
       "    }\n",
       "\n",
       "    .dataframe thead th {\n",
       "        text-align: right;\n",
       "    }\n",
       "</style>\n",
       "<table border=\"1\" class=\"dataframe\">\n",
       "  <thead>\n",
       "    <tr style=\"text-align: right;\">\n",
       "      <th></th>\n",
       "      <th>Image Index</th>\n",
       "      <th>Finding Labels</th>\n",
       "      <th>Patient ID</th>\n",
       "      <th>image_path</th>\n",
       "      <th>Atelectasis</th>\n",
       "      <th>Cardiomegaly</th>\n",
       "      <th>Consolidation</th>\n",
       "      <th>Edema</th>\n",
       "      <th>Effusion</th>\n",
       "      <th>Emphysema</th>\n",
       "      <th>Fibrosis</th>\n",
       "      <th>Hernia</th>\n",
       "      <th>Infiltration</th>\n",
       "      <th>Mass</th>\n",
       "      <th>Nodule</th>\n",
       "      <th>Pleural_Thickening</th>\n",
       "      <th>Pneumonia</th>\n",
       "      <th>Pneumothorax</th>\n",
       "      <th>type</th>\n",
       "    </tr>\n",
       "  </thead>\n",
       "  <tbody>\n",
       "    <tr>\n",
       "      <th>0</th>\n",
       "      <td>00000001_000.png</td>\n",
       "      <td>Cardiomegaly</td>\n",
       "      <td>1</td>\n",
       "      <td>data/images-224/images-224/00000001_000.png</td>\n",
       "      <td>0</td>\n",
       "      <td>1</td>\n",
       "      <td>0</td>\n",
       "      <td>0</td>\n",
       "      <td>0</td>\n",
       "      <td>0</td>\n",
       "      <td>0</td>\n",
       "      <td>0</td>\n",
       "      <td>0</td>\n",
       "      <td>0</td>\n",
       "      <td>0</td>\n",
       "      <td>0</td>\n",
       "      <td>0</td>\n",
       "      <td>0</td>\n",
       "      <td>train</td>\n",
       "    </tr>\n",
       "    <tr>\n",
       "      <th>1</th>\n",
       "      <td>00000001_001.png</td>\n",
       "      <td>Cardiomegaly|Emphysema</td>\n",
       "      <td>1</td>\n",
       "      <td>data/images-224/images-224/00000001_001.png</td>\n",
       "      <td>0</td>\n",
       "      <td>1</td>\n",
       "      <td>0</td>\n",
       "      <td>0</td>\n",
       "      <td>0</td>\n",
       "      <td>1</td>\n",
       "      <td>0</td>\n",
       "      <td>0</td>\n",
       "      <td>0</td>\n",
       "      <td>0</td>\n",
       "      <td>0</td>\n",
       "      <td>0</td>\n",
       "      <td>0</td>\n",
       "      <td>0</td>\n",
       "      <td>train</td>\n",
       "    </tr>\n",
       "    <tr>\n",
       "      <th>2</th>\n",
       "      <td>00000001_002.png</td>\n",
       "      <td>Cardiomegaly|Effusion</td>\n",
       "      <td>1</td>\n",
       "      <td>data/images-224/images-224/00000001_002.png</td>\n",
       "      <td>0</td>\n",
       "      <td>1</td>\n",
       "      <td>0</td>\n",
       "      <td>0</td>\n",
       "      <td>1</td>\n",
       "      <td>0</td>\n",
       "      <td>0</td>\n",
       "      <td>0</td>\n",
       "      <td>0</td>\n",
       "      <td>0</td>\n",
       "      <td>0</td>\n",
       "      <td>0</td>\n",
       "      <td>0</td>\n",
       "      <td>0</td>\n",
       "      <td>train</td>\n",
       "    </tr>\n",
       "    <tr>\n",
       "      <th>3</th>\n",
       "      <td>00000004_000.png</td>\n",
       "      <td>Mass|Nodule</td>\n",
       "      <td>4</td>\n",
       "      <td>data/images-224/images-224/00000004_000.png</td>\n",
       "      <td>0</td>\n",
       "      <td>0</td>\n",
       "      <td>0</td>\n",
       "      <td>0</td>\n",
       "      <td>0</td>\n",
       "      <td>0</td>\n",
       "      <td>0</td>\n",
       "      <td>0</td>\n",
       "      <td>0</td>\n",
       "      <td>1</td>\n",
       "      <td>1</td>\n",
       "      <td>0</td>\n",
       "      <td>0</td>\n",
       "      <td>0</td>\n",
       "      <td>train</td>\n",
       "    </tr>\n",
       "    <tr>\n",
       "      <th>4</th>\n",
       "      <td>00000005_006.png</td>\n",
       "      <td>Infiltration</td>\n",
       "      <td>5</td>\n",
       "      <td>data/images-224/images-224/00000005_006.png</td>\n",
       "      <td>0</td>\n",
       "      <td>0</td>\n",
       "      <td>0</td>\n",
       "      <td>0</td>\n",
       "      <td>0</td>\n",
       "      <td>0</td>\n",
       "      <td>0</td>\n",
       "      <td>0</td>\n",
       "      <td>1</td>\n",
       "      <td>0</td>\n",
       "      <td>0</td>\n",
       "      <td>0</td>\n",
       "      <td>0</td>\n",
       "      <td>0</td>\n",
       "      <td>train</td>\n",
       "    </tr>\n",
       "  </tbody>\n",
       "</table>\n",
       "</div>"
      ],
      "text/plain": [
       "        Image Index          Finding Labels  Patient ID  \\\n",
       "0  00000001_000.png            Cardiomegaly           1   \n",
       "1  00000001_001.png  Cardiomegaly|Emphysema           1   \n",
       "2  00000001_002.png   Cardiomegaly|Effusion           1   \n",
       "3  00000004_000.png             Mass|Nodule           4   \n",
       "4  00000005_006.png            Infiltration           5   \n",
       "\n",
       "                                    image_path  Atelectasis  Cardiomegaly  \\\n",
       "0  data/images-224/images-224/00000001_000.png            0             1   \n",
       "1  data/images-224/images-224/00000001_001.png            0             1   \n",
       "2  data/images-224/images-224/00000001_002.png            0             1   \n",
       "3  data/images-224/images-224/00000004_000.png            0             0   \n",
       "4  data/images-224/images-224/00000005_006.png            0             0   \n",
       "\n",
       "   Consolidation  Edema  Effusion  Emphysema  Fibrosis  Hernia  Infiltration  \\\n",
       "0              0      0         0          0         0       0             0   \n",
       "1              0      0         0          1         0       0             0   \n",
       "2              0      0         1          0         0       0             0   \n",
       "3              0      0         0          0         0       0             0   \n",
       "4              0      0         0          0         0       0             1   \n",
       "\n",
       "   Mass  Nodule  Pleural_Thickening  Pneumonia  Pneumothorax   type  \n",
       "0     0       0                   0          0             0  train  \n",
       "1     0       0                   0          0             0  train  \n",
       "2     0       0                   0          0             0  train  \n",
       "3     1       1                   0          0             0  train  \n",
       "4     0       0                   0          0             0  train  "
      ]
     },
     "execution_count": 5,
     "metadata": {},
     "output_type": "execute_result"
    }
   ],
   "source": [
    "# Check first 5 rows\n",
    "train_labels.head()"
   ]
  },
  {
   "cell_type": "code",
   "execution_count": 6,
   "metadata": {
    "execution": {
     "iopub.execute_input": "2021-09-07T13:07:45.023460Z",
     "iopub.status.busy": "2021-09-07T13:07:45.023102Z",
     "iopub.status.idle": "2021-09-07T13:07:45.028038Z",
     "shell.execute_reply": "2021-09-07T13:07:45.026806Z",
     "shell.execute_reply.started": "2021-09-07T13:07:45.023424Z"
    },
    "executionInfo": {
     "elapsed": 15,
     "status": "ok",
     "timestamp": 1630831072927,
     "user": {
      "displayName": "Ash Ang",
      "photoUrl": "",
      "userId": "09723206866093977201"
     },
     "user_tz": -480
    },
    "id": "qLYHK4AxzVnO"
   },
   "outputs": [],
   "source": [
    "columns = ['Atelectasis', 'Cardiomegaly', 'Consolidation', 'Edema', 'Effusion', 'Emphysema', 'Fibrosis', 'Infiltration', \n",
    "           'Mass', 'Nodule', 'Pleural_Thickening', 'Pneumonia', 'Pneumothorax']"
   ]
  },
  {
   "cell_type": "code",
   "execution_count": 7,
   "metadata": {
    "execution": {
     "iopub.execute_input": "2021-09-07T13:07:45.030129Z",
     "iopub.status.busy": "2021-09-07T13:07:45.029735Z",
     "iopub.status.idle": "2021-09-07T13:07:46.214617Z",
     "shell.execute_reply": "2021-09-07T13:07:46.213727Z",
     "shell.execute_reply.started": "2021-09-07T13:07:45.030075Z"
    },
    "executionInfo": {
     "elapsed": 1550,
     "status": "ok",
     "timestamp": 1630831074463,
     "user": {
      "displayName": "Ash Ang",
      "photoUrl": "",
      "userId": "09723206866093977201"
     },
     "user_tz": -480
    },
    "id": "pSGz3xYFwggt"
   },
   "outputs": [
    {
     "name": "stderr",
     "output_type": "stream",
     "text": [
      "/home/daryl/anaconda3/envs/tfsandbox/lib/python3.8/site-packages/sklearn/utils/validation.py:70: FutureWarning: Pass shuffle=True, random_state=12345 as keyword args. From version 1.0 (renaming of 0.25) passing these as positional arguments will result in an error\n",
      "  warnings.warn(f\"Pass {args_msg} as keyword args. From version \"\n"
     ]
    }
   ],
   "source": [
    "X = train_labels['image_path']\n",
    "y = train_labels[columns].values\n",
    "\n",
    "mskf = MultilabelStratifiedKFold(n_splits=5, shuffle=True, random_state=12_345)\n",
    "\n",
    "for train_index, val_index in mskf.split(X, y):\n",
    "  X_train, X_val = X[train_index], X[val_index]\n",
    "  y_train, y_val = y[train_index], y[val_index]"
   ]
  },
  {
   "cell_type": "markdown",
   "metadata": {
    "id": "v90jNAlN0Xb4"
   },
   "source": [
    "**Data Processing and Augmentation**\n",
    "\n",
    "Data augmentation is a technique to increase the diversity of your training set by applying random (but realistic) transformations such as image rotation."
   ]
  },
  {
   "cell_type": "code",
   "execution_count": 8,
   "metadata": {
    "execution": {
     "iopub.execute_input": "2021-09-07T13:07:46.216378Z",
     "iopub.status.busy": "2021-09-07T13:07:46.216023Z",
     "iopub.status.idle": "2021-09-07T13:07:46.223087Z",
     "shell.execute_reply": "2021-09-07T13:07:46.221905Z",
     "shell.execute_reply.started": "2021-09-07T13:07:46.216343Z"
    },
    "executionInfo": {
     "elapsed": 5,
     "status": "ok",
     "timestamp": 1630831074465,
     "user": {
      "displayName": "Ash Ang",
      "photoUrl": "",
      "userId": "09723206866093977201"
     },
     "user_tz": -480
    },
    "id": "ZLKxp3md0SG3"
   },
   "outputs": [],
   "source": [
    "# Create function to load, process and augment CXR images\n",
    "def load_image(img_file, labels):\n",
    "    image = tf.io.read_file(img_file)\n",
    "    image = tf.image.decode_png(image)[...,:1]\n",
    "    image = tf.image.grayscale_to_rgb(image) # Convert image from grayscale to RGB\n",
    "    image = tf.cast(image, tf.float32)\n",
    "    image /= 255. # Standardize image pixels\n",
    "\n",
    "    image = tf.image.random_flip_left_right(image)\n",
    "    image = tf.image.random_brightness(image, 0.2)\n",
    "    image.set_shape([224,224,3])\n",
    "    \n",
    "    return image, labels"
   ]
  },
  {
   "cell_type": "code",
   "execution_count": 9,
   "metadata": {
    "execution": {
     "iopub.execute_input": "2021-09-07T13:07:46.227078Z",
     "iopub.status.busy": "2021-09-07T13:07:46.226700Z",
     "iopub.status.idle": "2021-09-07T13:07:46.236350Z",
     "shell.execute_reply": "2021-09-07T13:07:46.235442Z",
     "shell.execute_reply.started": "2021-09-07T13:07:46.227042Z"
    },
    "executionInfo": {
     "elapsed": 5,
     "status": "ok",
     "timestamp": 1630831074465,
     "user": {
      "displayName": "Ash Ang",
      "photoUrl": "",
      "userId": "09723206866093977201"
     },
     "user_tz": -480
    },
    "id": "sCMDdp2g0U_7"
   },
   "outputs": [],
   "source": [
    "AUTOTUNE = tf.data.experimental.AUTOTUNE"
   ]
  },
  {
   "cell_type": "code",
   "execution_count": 10,
   "metadata": {
    "execution": {
     "iopub.execute_input": "2021-09-07T13:07:46.242439Z",
     "iopub.status.busy": "2021-09-07T13:07:46.241925Z",
     "iopub.status.idle": "2021-09-07T13:07:48.117428Z",
     "shell.execute_reply": "2021-09-07T13:07:48.116587Z",
     "shell.execute_reply.started": "2021-09-07T13:07:46.242343Z"
    },
    "executionInfo": {
     "elapsed": 5248,
     "status": "ok",
     "timestamp": 1630831080321,
     "user": {
      "displayName": "Ash Ang",
      "photoUrl": "",
      "userId": "09723206866093977201"
     },
     "user_tz": -480
    },
    "id": "j_ql_Tey0oZN"
   },
   "outputs": [
    {
     "name": "stdout",
     "output_type": "stream",
     "text": [
      "WARNING:tensorflow:AutoGraph could not transform <function load_image at 0x7f589cefeaf0> and will run it as-is.\n",
      "Please report this to the TensorFlow team. When filing the bug, set the verbosity to 10 (on Linux, `export AUTOGRAPH_VERBOSITY=10`) and attach the full output.\n",
      "Cause: module 'gast' has no attribute 'Index'\n",
      "To silence this warning, decorate the function with @tf.autograph.experimental.do_not_convert\n",
      "WARNING: AutoGraph could not transform <function load_image at 0x7f589cefeaf0> and will run it as-is.\n",
      "Please report this to the TensorFlow team. When filing the bug, set the verbosity to 10 (on Linux, `export AUTOGRAPH_VERBOSITY=10`) and attach the full output.\n",
      "Cause: module 'gast' has no attribute 'Index'\n",
      "To silence this warning, decorate the function with @tf.autograph.experimental.do_not_convert\n"
     ]
    }
   ],
   "source": [
    "train_dataset = tf.data.Dataset.from_tensor_slices((X_train,y_train))\n",
    "train_dataset = train_dataset.map(load_image, num_parallel_calls=AUTOTUNE)\n",
    "train_dataset = train_dataset.shuffle(4000).batch(batch_size).repeat()"
   ]
  },
  {
   "cell_type": "code",
   "execution_count": 11,
   "metadata": {
    "execution": {
     "iopub.execute_input": "2021-09-07T13:07:48.119106Z",
     "iopub.status.busy": "2021-09-07T13:07:48.118756Z",
     "iopub.status.idle": "2021-09-07T13:07:48.184332Z",
     "shell.execute_reply": "2021-09-07T13:07:48.183562Z",
     "shell.execute_reply.started": "2021-09-07T13:07:48.119071Z"
    },
    "executionInfo": {
     "elapsed": 10,
     "status": "ok",
     "timestamp": 1630831080322,
     "user": {
      "displayName": "Ash Ang",
      "photoUrl": "",
      "userId": "09723206866093977201"
     },
     "user_tz": -480
    },
    "id": "KJ79getj0sjI"
   },
   "outputs": [],
   "source": [
    "val_dataset = tf.data.Dataset.from_tensor_slices((X_val,y_val))\n",
    "val_dataset = val_dataset.map(load_image, num_parallel_calls=AUTOTUNE)\n",
    "val_dataset = val_dataset.batch(batch_size)"
   ]
  },
  {
   "cell_type": "markdown",
   "metadata": {
    "id": "fRJ91Y2d0yP8"
   },
   "source": [
    "## **Modelling**\n",
    "\n",
    "I created a convolution neural network (CNN) from scratch (i.e. newly trained weights) and evaluated its performance against a transfer learning approach with the pre-trained MobileNetV2 and ResNet50 Keras applications.\n",
    "\n",
    "Training a CNN from scratch (starting with a random initialization of weights) is often rare in practice because it is rare to obtain a large enough dataset to train. Transfer learning is the process of using pretrained weights or extracted features from a pretrained network. These pretained networks typically are very deep networks that have been trained on datasets consisting of millions of images. Rather than reinventing the wheel, we can use these networks as a basis to classify similar images since the high level features will be similar.\n",
    "\n",
    "After some trial and error, I decided to build a simple CNN with seventeen layers (eight convolution, four batch normalization, four pooling and one dense layers) in order to minimze the number of parameters. The number of filters (each with a 3 by 3 window and stride of 1) was doubled with every pair of convolution layers to gradually identify more details from the CXR images."
   ]
  },
  {
   "cell_type": "code",
   "execution_count": 12,
   "metadata": {},
   "outputs": [],
   "source": [
    "# Instantiate learning rate scheduler\n",
    "\n",
    "reduce_lr = tf.keras.optimizers.schedules.PolynomialDecay(lr, end_learning_rate=0,\n",
    "                                                        decay_steps=epoch*(X_train.shape[0] // batch_size) + 100,\n",
    "                                                        power=0.9)\n"
   ]
  },
  {
   "cell_type": "markdown",
   "metadata": {},
   "source": [
    "####  Building CNN model"
   ]
  },
  {
   "cell_type": "code",
   "execution_count": 13,
   "metadata": {
    "execution": {
     "iopub.execute_input": "2021-09-07T13:07:48.187203Z",
     "iopub.status.busy": "2021-09-07T13:07:48.186874Z",
     "iopub.status.idle": "2021-09-07T13:07:48.813052Z",
     "shell.execute_reply": "2021-09-07T13:07:48.812273Z",
     "shell.execute_reply.started": "2021-09-07T13:07:48.187157Z"
    },
    "executionInfo": {
     "elapsed": 622,
     "status": "ok",
     "timestamp": 1630831080934,
     "user": {
      "displayName": "Ash Ang",
      "photoUrl": "",
      "userId": "09723206866093977201"
     },
     "user_tz": -480
    },
    "id": "WtmY3kWr0uYv",
    "outputId": "36cbf9b6-bb62-4735-c240-8aba78215bbf"
   },
   "outputs": [
    {
     "name": "stdout",
     "output_type": "stream",
     "text": [
      "Model: \"sequential\"\n",
      "_________________________________________________________________\n",
      "Layer (type)                 Output Shape              Param #   \n",
      "=================================================================\n",
      "conv2d (Conv2D)              (None, 222, 222, 32)      896       \n",
      "_________________________________________________________________\n",
      "batch_normalization (BatchNo (None, 222, 222, 32)      128       \n",
      "_________________________________________________________________\n",
      "conv2d_1 (Conv2D)            (None, 220, 220, 32)      9248      \n",
      "_________________________________________________________________\n",
      "batch_normalization_1 (Batch (None, 220, 220, 32)      128       \n",
      "_________________________________________________________________\n",
      "max_pooling2d (MaxPooling2D) (None, 110, 110, 32)      0         \n",
      "_________________________________________________________________\n",
      "conv2d_2 (Conv2D)            (None, 108, 108, 64)      18496     \n",
      "_________________________________________________________________\n",
      "batch_normalization_2 (Batch (None, 108, 108, 64)      256       \n",
      "_________________________________________________________________\n",
      "conv2d_3 (Conv2D)            (None, 106, 106, 64)      36928     \n",
      "_________________________________________________________________\n",
      "batch_normalization_3 (Batch (None, 106, 106, 64)      256       \n",
      "_________________________________________________________________\n",
      "max_pooling2d_1 (MaxPooling2 (None, 53, 53, 64)        0         \n",
      "_________________________________________________________________\n",
      "conv2d_4 (Conv2D)            (None, 51, 51, 128)       73856     \n",
      "_________________________________________________________________\n",
      "batch_normalization_4 (Batch (None, 51, 51, 128)       512       \n",
      "_________________________________________________________________\n",
      "conv2d_5 (Conv2D)            (None, 49, 49, 128)       147584    \n",
      "_________________________________________________________________\n",
      "batch_normalization_5 (Batch (None, 49, 49, 128)       512       \n",
      "_________________________________________________________________\n",
      "max_pooling2d_2 (MaxPooling2 (None, 24, 24, 128)       0         \n",
      "_________________________________________________________________\n",
      "conv2d_6 (Conv2D)            (None, 22, 22, 256)       295168    \n",
      "_________________________________________________________________\n",
      "batch_normalization_6 (Batch (None, 22, 22, 256)       1024      \n",
      "_________________________________________________________________\n",
      "conv2d_7 (Conv2D)            (None, 20, 20, 256)       590080    \n",
      "_________________________________________________________________\n",
      "batch_normalization_7 (Batch (None, 20, 20, 256)       1024      \n",
      "_________________________________________________________________\n",
      "max_pooling2d_3 (MaxPooling2 (None, 10, 10, 256)       0         \n",
      "_________________________________________________________________\n",
      "flatten (Flatten)            (None, 25600)             0         \n",
      "_________________________________________________________________\n",
      "dense (Dense)                (None, 13)                332813    \n",
      "=================================================================\n",
      "Total params: 1,508,909\n",
      "Trainable params: 1,506,989\n",
      "Non-trainable params: 1,920\n",
      "_________________________________________________________________\n"
     ]
    }
   ],
   "source": [
    "# Define CNN architecture \n",
    "model = tf.keras.Sequential()  \n",
    "\n",
    "model.add(Conv2D(32,(3,3), input_shape = (224,224, 3), activation = 'relu'))\n",
    "model.add(tf.keras.layers.BatchNormalization())\n",
    "model.add(Conv2D(32,(3,3), activation = 'relu'))\n",
    "model.add(tf.keras.layers.BatchNormalization())\n",
    "model.add(MaxPooling2D(pool_size= (2,2)))\n",
    "# model.add(Dropout(0.25))\n",
    "\n",
    "model.add((Conv2D(64,(3,3), activation = 'relu')))\n",
    "model.add(tf.keras.layers.BatchNormalization())\n",
    "model.add((Conv2D(64,(3,3), activation = 'relu')))\n",
    "model.add(tf.keras.layers.BatchNormalization())\n",
    "model.add(MaxPooling2D(pool_size= (2,2)))\n",
    "# model.add(Dropout(0.25))\n",
    "\n",
    "model.add((Conv2D(128,(3,3), activation = 'relu')))\n",
    "model.add(tf.keras.layers.BatchNormalization())\n",
    "model.add((Conv2D(128,(3,3), activation = 'relu')))\n",
    "model.add(tf.keras.layers.BatchNormalization())\n",
    "model.add(MaxPooling2D(pool_size= (2,2)))\n",
    "# model.add(Dropout(0.25))\n",
    "\n",
    "model.add((Conv2D(256,(3,3), activation = 'relu')))\n",
    "model.add(tf.keras.layers.BatchNormalization())\n",
    "model.add((Conv2D(256,(3,3), activation = 'relu')))\n",
    "model.add(tf.keras.layers.BatchNormalization())\n",
    "model.add(MaxPooling2D(pool_size= (2,2)))\n",
    "# model.add(Dropout(0.25))\n",
    "\n",
    "model.add(Flatten())\n",
    "\n",
    "model.add(Dense(13, activation='sigmoid'))\n",
    "\n",
    "# Compile \n",
    "model.compile(optimizer = tf.keras.optimizers.Adam(\n",
    "    learning_rate=reduce_lr), loss = 'binary_crossentropy', metrics = ['binary_accuracy'])\n",
    "\n",
    "# View summary\n",
    "model.summary()"
   ]
  },
  {
   "cell_type": "markdown",
   "metadata": {
    "id": "2wq_G1Bo1Pd7"
   },
   "source": [
    "To optimize the performance of my model, I applied a 'Polynomial' learning scheduler to the Adam optimizer. Reducing the learning rate is known to improve model performace when learning plateaus. Additionally, I have implemented a callback to stop the learning algorithm from working through the dataset should the validation loss failed to improve after 4 Epochs."
   ]
  },
  {
   "cell_type": "code",
   "execution_count": 14,
   "metadata": {
    "execution": {
     "iopub.execute_input": "2021-09-07T13:07:48.816096Z",
     "iopub.status.busy": "2021-09-07T13:07:48.815837Z",
     "iopub.status.idle": "2021-09-07T13:07:48.823047Z",
     "shell.execute_reply": "2021-09-07T13:07:48.822219Z",
     "shell.execute_reply.started": "2021-09-07T13:07:48.816070Z"
    },
    "executionInfo": {
     "elapsed": 8,
     "status": "ok",
     "timestamp": 1630831080934,
     "user": {
      "displayName": "Ash Ang",
      "photoUrl": "",
      "userId": "09723206866093977201"
     },
     "user_tz": -480
    },
    "id": "YPzv2wGl1Tes"
   },
   "outputs": [],
   "source": [
    "early_stopping = tf.keras.callbacks.EarlyStopping(monitor='val_loss', \n",
    "                                                  min_delta=0, \n",
    "                                                  patience=4, \n",
    "                                                  verbose=1,\n",
    "                                                  mode='auto'\n",
    ")"
   ]
  },
  {
   "cell_type": "code",
   "execution_count": 15,
   "metadata": {
    "execution": {
     "iopub.execute_input": "2021-09-07T13:07:48.833895Z",
     "iopub.status.busy": "2021-09-07T13:07:48.833533Z",
     "iopub.status.idle": "2021-09-07T13:52:01.703590Z",
     "shell.execute_reply": "2021-09-07T13:52:01.702725Z",
     "shell.execute_reply.started": "2021-09-07T13:07:48.833858Z"
    },
    "executionInfo": {
     "elapsed": 241784,
     "status": "error",
     "timestamp": 1630831322711,
     "user": {
      "displayName": "Ash Ang",
      "photoUrl": "",
      "userId": "09723206866093977201"
     },
     "user_tz": -480
    },
    "id": "cP5FJ1dt1YFT",
    "outputId": "d561b27e-d346-42a1-df90-d031e79c2c9c"
   },
   "outputs": [
    {
     "name": "stdout",
     "output_type": "stream",
     "text": [
      "Epoch 1/12\n",
      "450/450 [==============================] - 128s 190ms/step - loss: 0.3786 - binary_accuracy: 0.8656 - val_loss: 0.3230 - val_binary_accuracy: 0.8840\n",
      "Epoch 2/12\n",
      "450/450 [==============================] - 129s 191ms/step - loss: 0.3200 - binary_accuracy: 0.8821 - val_loss: 0.3334 - val_binary_accuracy: 0.8780\n",
      "Epoch 3/12\n",
      "450/450 [==============================] - 87s 193ms/step - loss: 0.3161 - binary_accuracy: 0.8828 - val_loss: 0.3265 - val_binary_accuracy: 0.8743\n",
      "Epoch 4/12\n",
      "450/450 [==============================] - 87s 193ms/step - loss: 0.3118 - binary_accuracy: 0.8833 - val_loss: 0.3154 - val_binary_accuracy: 0.8785\n",
      "Epoch 5/12\n",
      "450/450 [==============================] - 87s 193ms/step - loss: 0.3067 - binary_accuracy: 0.8849 - val_loss: 0.3103 - val_binary_accuracy: 0.8828\n",
      "Epoch 6/12\n",
      "450/450 [==============================] - 87s 194ms/step - loss: 0.3016 - binary_accuracy: 0.8864 - val_loss: 0.3113 - val_binary_accuracy: 0.8842\n",
      "Epoch 7/12\n",
      "450/450 [==============================] - 87s 194ms/step - loss: 0.2992 - binary_accuracy: 0.8863 - val_loss: 0.3076 - val_binary_accuracy: 0.8842\n",
      "Epoch 8/12\n",
      "450/450 [==============================] - 87s 194ms/step - loss: 0.2943 - binary_accuracy: 0.8876 - val_loss: 0.3020 - val_binary_accuracy: 0.8853\n",
      "Epoch 9/12\n",
      "450/450 [==============================] - 87s 194ms/step - loss: 0.2918 - binary_accuracy: 0.8883 - val_loss: 0.2980 - val_binary_accuracy: 0.8856\n",
      "Epoch 10/12\n",
      "450/450 [==============================] - 87s 194ms/step - loss: 0.2860 - binary_accuracy: 0.8901 - val_loss: 0.2992 - val_binary_accuracy: 0.8853\n",
      "Epoch 11/12\n",
      "450/450 [==============================] - 87s 194ms/step - loss: 0.2811 - binary_accuracy: 0.8913 - val_loss: 0.2964 - val_binary_accuracy: 0.8871\n",
      "Epoch 12/12\n",
      "450/450 [==============================] - 87s 194ms/step - loss: 0.2778 - binary_accuracy: 0.8930 - val_loss: 0.2916 - val_binary_accuracy: 0.8882\n"
     ]
    }
   ],
   "source": [
    "# Fit model\n",
    "history_cnn = model.fit(train_dataset,epochs=epoch, steps_per_epoch= X_train.shape[0] // batch_size, \n",
    "              validation_data = val_dataset, validation_steps = X_val.shape[0] // batch_size, \n",
    "              callbacks = [early_stopping]\n",
    ")\n"
   ]
  },
  {
   "cell_type": "code",
   "execution_count": 46,
   "metadata": {
    "execution": {
     "iopub.execute_input": "2021-09-07T13:52:01.705833Z",
     "iopub.status.busy": "2021-09-07T13:52:01.705491Z",
     "iopub.status.idle": "2021-09-07T13:52:02.039777Z",
     "shell.execute_reply": "2021-09-07T13:52:02.038754Z",
     "shell.execute_reply.started": "2021-09-07T13:52:01.705791Z"
    },
    "executionInfo": {
     "elapsed": 13,
     "status": "aborted",
     "timestamp": 1630831322707,
     "user": {
      "displayName": "Ash Ang",
      "photoUrl": "",
      "userId": "09723206866093977201"
     },
     "user_tz": -480
    },
    "id": "dsIhJ5r11kJ0"
   },
   "outputs": [
    {
     "data": {
      "image/png": "[encoded data removed]",
      "text/plain": [
       "<Figure size 864x576 with 1 Axes>"
      ]
     },
     "metadata": {
      "needs_background": "light"
     },
     "output_type": "display_data"
    }
   ],
   "source": [
    "# Check out our train loss and test loss over epochs.\n",
    "train_loss = history_cnn.history['loss']\n",
    "test_loss = history_cnn.history['val_loss']\n",
    "\n",
    "# Set figure size.\n",
    "plt.figure(figsize=(12, 8))\n",
    "\n",
    "# Generate line plot of training, testing loss over epochs.\n",
    "plt.plot(train_loss, label='Training Loss', color='#185fad')\n",
    "plt.plot(test_loss, label='Validation Loss', color='orange')\n",
    "\n",
    "# Set title\n",
    "plt.title('Training and Validation Loss by Epoch', fontsize = 25)\n",
    "plt.xlabel('Epoch', fontsize = 18)\n",
    "plt.ylabel('Binary Crossentropy', fontsize = 18)\n",
    "plt.xticks(np.arange(12), np.arange(12)+1)\n",
    "\n",
    "plt.legend(fontsize = 18);"
   ]
  },
  {
   "cell_type": "code",
   "execution_count": 17,
   "metadata": {
    "execution": {
     "iopub.execute_input": "2021-09-07T13:52:02.041587Z",
     "iopub.status.busy": "2021-09-07T13:52:02.041110Z",
     "iopub.status.idle": "2021-09-07T13:52:12.740137Z",
     "shell.execute_reply": "2021-09-07T13:52:12.739254Z",
     "shell.execute_reply.started": "2021-09-07T13:52:02.041544Z"
    },
    "executionInfo": {
     "elapsed": 13,
     "status": "aborted",
     "timestamp": 1630831322708,
     "user": {
      "displayName": "Ash Ang",
      "photoUrl": "",
      "userId": "09723206866093977201"
     },
     "user_tz": -480
    },
    "id": "lt-FVxFV1msB"
   },
   "outputs": [],
   "source": [
    "# Store CNN predictions\n",
    "y_pred_cnn = model.predict(val_dataset, verbose = 0, batch_size = batch_size, steps = None, callbacks = None)"
   ]
  },
  {
   "cell_type": "code",
   "execution_count": 18,
   "metadata": {
    "execution": {
     "iopub.execute_input": "2021-09-07T13:52:12.755893Z",
     "iopub.status.busy": "2021-09-07T13:52:12.755603Z",
     "iopub.status.idle": "2021-09-07T13:52:12.773856Z",
     "shell.execute_reply": "2021-09-07T13:52:12.773063Z",
     "shell.execute_reply.started": "2021-09-07T13:52:12.755868Z"
    },
    "executionInfo": {
     "elapsed": 13,
     "status": "aborted",
     "timestamp": 1630831322709,
     "user": {
      "displayName": "Ash Ang",
      "photoUrl": "",
      "userId": "09723206866093977201"
     },
     "user_tz": -480
    },
    "id": "CaMdULLc1ou7"
   },
   "outputs": [
    {
     "data": {
      "text/plain": [
       "array([2.1141232e-05, 2.8904158e-05, 3.7117334e-05, ..., 9.4775027e-01,\n",
       "       9.4908488e-01, 9.5009714e-01], dtype=float32)"
      ]
     },
     "execution_count": 18,
     "metadata": {},
     "output_type": "execute_result"
    }
   ],
   "source": [
    "# Check prediction values\n",
    "np.unique(y_pred_cnn)"
   ]
  },
  {
   "cell_type": "code",
   "execution_count": 19,
   "metadata": {
    "execution": {
     "iopub.execute_input": "2021-09-07T13:52:12.775900Z",
     "iopub.status.busy": "2021-09-07T13:52:12.775577Z",
     "iopub.status.idle": "2021-09-07T13:52:12.780106Z",
     "shell.execute_reply": "2021-09-07T13:52:12.779274Z",
     "shell.execute_reply.started": "2021-09-07T13:52:12.775866Z"
    }
   },
   "outputs": [],
   "source": [
    "# Applythreshold of 0.3 to sigmoid output of indepedent probabilty for each label\n",
    "y_pred_cnn = np.where(y_pred_cnn > 0.3, 1, 0)"
   ]
  },
  {
   "cell_type": "code",
   "execution_count": 20,
   "metadata": {
    "execution": {
     "iopub.execute_input": "2021-09-07T13:52:12.812549Z",
     "iopub.status.busy": "2021-09-07T13:52:12.811938Z",
     "iopub.status.idle": "2021-09-07T13:52:12.831441Z",
     "shell.execute_reply": "2021-09-07T13:52:12.830543Z",
     "shell.execute_reply.started": "2021-09-07T13:52:12.812509Z"
    }
   },
   "outputs": [
    {
     "data": {
      "text/plain": [
       "array([[[4320, 1228],\n",
       "        [ 875,  781]],\n",
       "\n",
       "       [[6796,   66],\n",
       "        [ 295,   47]],\n",
       "\n",
       "       [[6602,   32],\n",
       "        [ 560,   10]],\n",
       "\n",
       "       [[6882,   47],\n",
       "        [ 254,   21]],\n",
       "\n",
       "       [[4178, 1294],\n",
       "        [ 679, 1053]],\n",
       "\n",
       "       [[6910,    9],\n",
       "        [ 283,    2]],\n",
       "\n",
       "       [[6954,    0],\n",
       "        [ 250,    0]],\n",
       "\n",
       "       [[1404, 3044],\n",
       "        [ 513, 2243]],\n",
       "\n",
       "       [[6103,  295],\n",
       "        [ 657,  149]],\n",
       "\n",
       "       [[5993,  269],\n",
       "        [ 851,   91]],\n",
       "\n",
       "       [[6730,   26],\n",
       "        [ 432,   16]],\n",
       "\n",
       "       [[7027,    2],\n",
       "        [ 175,    0]],\n",
       "\n",
       "       [[6596,   81],\n",
       "        [ 489,   38]]])"
      ]
     },
     "execution_count": 20,
     "metadata": {},
     "output_type": "execute_result"
    }
   ],
   "source": [
    "# CNN Multi-label confusion matrix\n",
    "multilabel_confusion_matrix(y_val, y_pred_cnn)"
   ]
  },
  {
   "cell_type": "code",
   "execution_count": 49,
   "metadata": {
    "execution": {
     "iopub.execute_input": "2021-09-07T13:52:12.833475Z",
     "iopub.status.busy": "2021-09-07T13:52:12.833114Z",
     "iopub.status.idle": "2021-09-07T13:52:12.863973Z",
     "shell.execute_reply": "2021-09-07T13:52:12.863156Z",
     "shell.execute_reply.started": "2021-09-07T13:52:12.833442Z"
    }
   },
   "outputs": [
    {
     "name": "stdout",
     "output_type": "stream",
     "text": [
      "                    precision    recall  f1-score   support\n",
      "\n",
      "       Atelectasis       0.39      0.47      0.43      1656\n",
      "      Cardiomegaly       0.42      0.14      0.21       342\n",
      "     Consolidation       0.24      0.02      0.03       570\n",
      "             Edema       0.31      0.08      0.12       275\n",
      "          Effusion       0.45      0.61      0.52      1732\n",
      "         Emphysema       0.18      0.01      0.01       285\n",
      "          Fibrosis       0.00      0.00      0.00       250\n",
      "      Infiltration       0.42      0.81      0.56      2756\n",
      "              Mass       0.34      0.18      0.24       806\n",
      "            Nodule       0.25      0.10      0.14       942\n",
      "Pleural_Thickening       0.38      0.04      0.07       448\n",
      "         Pneumonia       0.00      0.00      0.00       175\n",
      "      Pneumothorax       0.32      0.07      0.12       527\n",
      "\n",
      "         micro avg       0.41      0.41      0.41     10764\n",
      "         macro avg       0.28      0.19      0.19     10764\n",
      "      weighted avg       0.36      0.41      0.34     10764\n",
      "       samples avg       0.39      0.43      0.39     10764\n",
      "\n"
     ]
    },
    {
     "name": "stderr",
     "output_type": "stream",
     "text": [
      "/home/daryl/anaconda3/envs/tfsandbox/lib/python3.8/site-packages/sklearn/metrics/_classification.py:1245: UndefinedMetricWarning: Precision and F-score are ill-defined and being set to 0.0 in labels with no predicted samples. Use `zero_division` parameter to control this behavior.\n",
      "  _warn_prf(average, modifier, msg_start, len(result))\n",
      "/home/daryl/anaconda3/envs/tfsandbox/lib/python3.8/site-packages/sklearn/metrics/_classification.py:1245: UndefinedMetricWarning: Precision and F-score are ill-defined and being set to 0.0 in samples with no predicted labels. Use `zero_division` parameter to control this behavior.\n",
      "  _warn_prf(average, modifier, msg_start, len(result))\n",
      "/home/daryl/anaconda3/envs/tfsandbox/lib/python3.8/site-packages/sklearn/metrics/_classification.py:1245: UndefinedMetricWarning: Recall and F-score are ill-defined and being set to 0.0 in samples with no true labels. Use `zero_division` parameter to control this behavior.\n",
      "  _warn_prf(average, modifier, msg_start, len(result))\n"
     ]
    }
   ],
   "source": [
    "# Print CNN model classification report\n",
    "print(classification_report(y_val, y_pred_cnn, target_names = columns))"
   ]
  },
  {
   "cell_type": "markdown",
   "metadata": {},
   "source": [
    "A pre-trained model is a saved network that was previously trained on a large dataset, typically on a large-scale image-classification task. You either use the pretrained model as is or use transfer learning to customize this model to a given task. The intuition behind transfer learning for image classification is that if a model is trained on a large and general enough dataset, this model will effectively serve as a generic model of the visual world. You can then take advantage of these learned feature maps without having to start from scratch by training a large model on a large dataset.\n"
   ]
  },
  {
   "cell_type": "markdown",
   "metadata": {},
   "source": [
    "####  Transfer learning from ResNet50"
   ]
  },
  {
   "cell_type": "code",
   "execution_count": 22,
   "metadata": {
    "execution": {
     "iopub.execute_input": "2021-09-07T13:52:12.865929Z",
     "iopub.status.busy": "2021-09-07T13:52:12.865389Z",
     "iopub.status.idle": "2021-09-07T13:52:13.852328Z",
     "shell.execute_reply": "2021-09-07T13:52:13.851400Z",
     "shell.execute_reply.started": "2021-09-07T13:52:12.865893Z"
    }
   },
   "outputs": [
    {
     "name": "stdout",
     "output_type": "stream",
     "text": [
      "Model: \"resnet50v2\"\n",
      "__________________________________________________________________________________________________\n",
      "Layer (type)                    Output Shape         Param #     Connected to                     \n",
      "==================================================================================================\n",
      "input_1 (InputLayer)            [(None, 224, 224, 3) 0                                            \n",
      "__________________________________________________________________________________________________\n",
      "conv1_pad (ZeroPadding2D)       (None, 230, 230, 3)  0           input_1[0][0]                    \n",
      "__________________________________________________________________________________________________\n",
      "conv1_conv (Conv2D)             (None, 112, 112, 64) 9472        conv1_pad[0][0]                  \n",
      "__________________________________________________________________________________________________\n",
      "pool1_pad (ZeroPadding2D)       (None, 114, 114, 64) 0           conv1_conv[0][0]                 \n",
      "__________________________________________________________________________________________________\n",
      "pool1_pool (MaxPooling2D)       (None, 56, 56, 64)   0           pool1_pad[0][0]                  \n",
      "__________________________________________________________________________________________________\n",
      "conv2_block1_preact_bn (BatchNo (None, 56, 56, 64)   256         pool1_pool[0][0]                 \n",
      "__________________________________________________________________________________________________\n",
      "conv2_block1_preact_relu (Activ (None, 56, 56, 64)   0           conv2_block1_preact_bn[0][0]     \n",
      "__________________________________________________________________________________________________\n",
      "conv2_block1_1_conv (Conv2D)    (None, 56, 56, 64)   4096        conv2_block1_preact_relu[0][0]   \n",
      "__________________________________________________________________________________________________\n",
      "conv2_block1_1_bn (BatchNormali (None, 56, 56, 64)   256         conv2_block1_1_conv[0][0]        \n",
      "__________________________________________________________________________________________________\n",
      "conv2_block1_1_relu (Activation (None, 56, 56, 64)   0           conv2_block1_1_bn[0][0]          \n",
      "__________________________________________________________________________________________________\n",
      "conv2_block1_2_pad (ZeroPadding (None, 58, 58, 64)   0           conv2_block1_1_relu[0][0]        \n",
      "__________________________________________________________________________________________________\n",
      "conv2_block1_2_conv (Conv2D)    (None, 56, 56, 64)   36864       conv2_block1_2_pad[0][0]         \n",
      "__________________________________________________________________________________________________\n",
      "conv2_block1_2_bn (BatchNormali (None, 56, 56, 64)   256         conv2_block1_2_conv[0][0]        \n",
      "__________________________________________________________________________________________________\n",
      "conv2_block1_2_relu (Activation (None, 56, 56, 64)   0           conv2_block1_2_bn[0][0]          \n",
      "__________________________________________________________________________________________________\n",
      "conv2_block1_0_conv (Conv2D)    (None, 56, 56, 256)  16640       conv2_block1_preact_relu[0][0]   \n",
      "__________________________________________________________________________________________________\n",
      "conv2_block1_3_conv (Conv2D)    (None, 56, 56, 256)  16640       conv2_block1_2_relu[0][0]        \n",
      "__________________________________________________________________________________________________\n",
      "conv2_block1_out (Add)          (None, 56, 56, 256)  0           conv2_block1_0_conv[0][0]        \n",
      "                                                                 conv2_block1_3_conv[0][0]        \n",
      "__________________________________________________________________________________________________\n",
      "conv2_block2_preact_bn (BatchNo (None, 56, 56, 256)  1024        conv2_block1_out[0][0]           \n",
      "__________________________________________________________________________________________________\n",
      "conv2_block2_preact_relu (Activ (None, 56, 56, 256)  0           conv2_block2_preact_bn[0][0]     \n",
      "__________________________________________________________________________________________________\n",
      "conv2_block2_1_conv (Conv2D)    (None, 56, 56, 64)   16384       conv2_block2_preact_relu[0][0]   \n",
      "__________________________________________________________________________________________________\n",
      "conv2_block2_1_bn (BatchNormali (None, 56, 56, 64)   256         conv2_block2_1_conv[0][0]        \n",
      "__________________________________________________________________________________________________\n",
      "conv2_block2_1_relu (Activation (None, 56, 56, 64)   0           conv2_block2_1_bn[0][0]          \n",
      "__________________________________________________________________________________________________\n",
      "conv2_block2_2_pad (ZeroPadding (None, 58, 58, 64)   0           conv2_block2_1_relu[0][0]        \n",
      "__________________________________________________________________________________________________\n",
      "conv2_block2_2_conv (Conv2D)    (None, 56, 56, 64)   36864       conv2_block2_2_pad[0][0]         \n",
      "__________________________________________________________________________________________________\n",
      "conv2_block2_2_bn (BatchNormali (None, 56, 56, 64)   256         conv2_block2_2_conv[0][0]        \n",
      "__________________________________________________________________________________________________\n",
      "conv2_block2_2_relu (Activation (None, 56, 56, 64)   0           conv2_block2_2_bn[0][0]          \n",
      "__________________________________________________________________________________________________\n",
      "conv2_block2_3_conv (Conv2D)    (None, 56, 56, 256)  16640       conv2_block2_2_relu[0][0]        \n",
      "__________________________________________________________________________________________________\n",
      "conv2_block2_out (Add)          (None, 56, 56, 256)  0           conv2_block1_out[0][0]           \n",
      "                                                                 conv2_block2_3_conv[0][0]        \n",
      "__________________________________________________________________________________________________\n",
      "conv2_block3_preact_bn (BatchNo (None, 56, 56, 256)  1024        conv2_block2_out[0][0]           \n",
      "__________________________________________________________________________________________________\n",
      "conv2_block3_preact_relu (Activ (None, 56, 56, 256)  0           conv2_block3_preact_bn[0][0]     \n",
      "__________________________________________________________________________________________________\n",
      "conv2_block3_1_conv (Conv2D)    (None, 56, 56, 64)   16384       conv2_block3_preact_relu[0][0]   \n",
      "__________________________________________________________________________________________________\n",
      "conv2_block3_1_bn (BatchNormali (None, 56, 56, 64)   256         conv2_block3_1_conv[0][0]        \n",
      "__________________________________________________________________________________________________\n",
      "conv2_block3_1_relu (Activation (None, 56, 56, 64)   0           conv2_block3_1_bn[0][0]          \n",
      "__________________________________________________________________________________________________\n",
      "conv2_block3_2_pad (ZeroPadding (None, 58, 58, 64)   0           conv2_block3_1_relu[0][0]        \n",
      "__________________________________________________________________________________________________\n",
      "conv2_block3_2_conv (Conv2D)    (None, 28, 28, 64)   36864       conv2_block3_2_pad[0][0]         \n",
      "__________________________________________________________________________________________________\n",
      "conv2_block3_2_bn (BatchNormali (None, 28, 28, 64)   256         conv2_block3_2_conv[0][0]        \n",
      "__________________________________________________________________________________________________\n",
      "conv2_block3_2_relu (Activation (None, 28, 28, 64)   0           conv2_block3_2_bn[0][0]          \n",
      "__________________________________________________________________________________________________\n",
      "max_pooling2d_4 (MaxPooling2D)  (None, 28, 28, 256)  0           conv2_block2_out[0][0]           \n",
      "__________________________________________________________________________________________________\n",
      "conv2_block3_3_conv (Conv2D)    (None, 28, 28, 256)  16640       conv2_block3_2_relu[0][0]        \n",
      "__________________________________________________________________________________________________\n",
      "conv2_block3_out (Add)          (None, 28, 28, 256)  0           max_pooling2d_4[0][0]            \n",
      "                                                                 conv2_block3_3_conv[0][0]        \n",
      "__________________________________________________________________________________________________\n",
      "conv3_block1_preact_bn (BatchNo (None, 28, 28, 256)  1024        conv2_block3_out[0][0]           \n",
      "__________________________________________________________________________________________________\n",
      "conv3_block1_preact_relu (Activ (None, 28, 28, 256)  0           conv3_block1_preact_bn[0][0]     \n",
      "__________________________________________________________________________________________________\n",
      "conv3_block1_1_conv (Conv2D)    (None, 28, 28, 128)  32768       conv3_block1_preact_relu[0][0]   \n",
      "__________________________________________________________________________________________________\n",
      "conv3_block1_1_bn (BatchNormali (None, 28, 28, 128)  512         conv3_block1_1_conv[0][0]        \n",
      "__________________________________________________________________________________________________\n",
      "conv3_block1_1_relu (Activation (None, 28, 28, 128)  0           conv3_block1_1_bn[0][0]          \n",
      "__________________________________________________________________________________________________\n",
      "conv3_block1_2_pad (ZeroPadding (None, 30, 30, 128)  0           conv3_block1_1_relu[0][0]        \n",
      "__________________________________________________________________________________________________\n",
      "conv3_block1_2_conv (Conv2D)    (None, 28, 28, 128)  147456      conv3_block1_2_pad[0][0]         \n",
      "__________________________________________________________________________________________________\n",
      "conv3_block1_2_bn (BatchNormali (None, 28, 28, 128)  512         conv3_block1_2_conv[0][0]        \n",
      "__________________________________________________________________________________________________\n",
      "conv3_block1_2_relu (Activation (None, 28, 28, 128)  0           conv3_block1_2_bn[0][0]          \n",
      "__________________________________________________________________________________________________\n",
      "conv3_block1_0_conv (Conv2D)    (None, 28, 28, 512)  131584      conv3_block1_preact_relu[0][0]   \n",
      "__________________________________________________________________________________________________\n",
      "conv3_block1_3_conv (Conv2D)    (None, 28, 28, 512)  66048       conv3_block1_2_relu[0][0]        \n",
      "__________________________________________________________________________________________________\n",
      "conv3_block1_out (Add)          (None, 28, 28, 512)  0           conv3_block1_0_conv[0][0]        \n",
      "                                                                 conv3_block1_3_conv[0][0]        \n",
      "__________________________________________________________________________________________________\n",
      "conv3_block2_preact_bn (BatchNo (None, 28, 28, 512)  2048        conv3_block1_out[0][0]           \n",
      "__________________________________________________________________________________________________\n",
      "conv3_block2_preact_relu (Activ (None, 28, 28, 512)  0           conv3_block2_preact_bn[0][0]     \n",
      "__________________________________________________________________________________________________\n",
      "conv3_block2_1_conv (Conv2D)    (None, 28, 28, 128)  65536       conv3_block2_preact_relu[0][0]   \n",
      "__________________________________________________________________________________________________\n",
      "conv3_block2_1_bn (BatchNormali (None, 28, 28, 128)  512         conv3_block2_1_conv[0][0]        \n",
      "__________________________________________________________________________________________________\n",
      "conv3_block2_1_relu (Activation (None, 28, 28, 128)  0           conv3_block2_1_bn[0][0]          \n",
      "__________________________________________________________________________________________________\n",
      "conv3_block2_2_pad (ZeroPadding (None, 30, 30, 128)  0           conv3_block2_1_relu[0][0]        \n",
      "__________________________________________________________________________________________________\n",
      "conv3_block2_2_conv (Conv2D)    (None, 28, 28, 128)  147456      conv3_block2_2_pad[0][0]         \n",
      "__________________________________________________________________________________________________\n",
      "conv3_block2_2_bn (BatchNormali (None, 28, 28, 128)  512         conv3_block2_2_conv[0][0]        \n",
      "__________________________________________________________________________________________________\n",
      "conv3_block2_2_relu (Activation (None, 28, 28, 128)  0           conv3_block2_2_bn[0][0]          \n",
      "__________________________________________________________________________________________________\n",
      "conv3_block2_3_conv (Conv2D)    (None, 28, 28, 512)  66048       conv3_block2_2_relu[0][0]        \n",
      "__________________________________________________________________________________________________\n",
      "conv3_block2_out (Add)          (None, 28, 28, 512)  0           conv3_block1_out[0][0]           \n",
      "                                                                 conv3_block2_3_conv[0][0]        \n",
      "__________________________________________________________________________________________________\n",
      "conv3_block3_preact_bn (BatchNo (None, 28, 28, 512)  2048        conv3_block2_out[0][0]           \n",
      "__________________________________________________________________________________________________\n",
      "conv3_block3_preact_relu (Activ (None, 28, 28, 512)  0           conv3_block3_preact_bn[0][0]     \n",
      "__________________________________________________________________________________________________\n",
      "conv3_block3_1_conv (Conv2D)    (None, 28, 28, 128)  65536       conv3_block3_preact_relu[0][0]   \n",
      "__________________________________________________________________________________________________\n",
      "conv3_block3_1_bn (BatchNormali (None, 28, 28, 128)  512         conv3_block3_1_conv[0][0]        \n",
      "__________________________________________________________________________________________________\n",
      "conv3_block3_1_relu (Activation (None, 28, 28, 128)  0           conv3_block3_1_bn[0][0]          \n",
      "__________________________________________________________________________________________________\n",
      "conv3_block3_2_pad (ZeroPadding (None, 30, 30, 128)  0           conv3_block3_1_relu[0][0]        \n",
      "__________________________________________________________________________________________________\n",
      "conv3_block3_2_conv (Conv2D)    (None, 28, 28, 128)  147456      conv3_block3_2_pad[0][0]         \n",
      "__________________________________________________________________________________________________\n",
      "conv3_block3_2_bn (BatchNormali (None, 28, 28, 128)  512         conv3_block3_2_conv[0][0]        \n",
      "__________________________________________________________________________________________________\n",
      "conv3_block3_2_relu (Activation (None, 28, 28, 128)  0           conv3_block3_2_bn[0][0]          \n",
      "__________________________________________________________________________________________________\n",
      "conv3_block3_3_conv (Conv2D)    (None, 28, 28, 512)  66048       conv3_block3_2_relu[0][0]        \n",
      "__________________________________________________________________________________________________\n",
      "conv3_block3_out (Add)          (None, 28, 28, 512)  0           conv3_block2_out[0][0]           \n",
      "                                                                 conv3_block3_3_conv[0][0]        \n",
      "__________________________________________________________________________________________________\n",
      "conv3_block4_preact_bn (BatchNo (None, 28, 28, 512)  2048        conv3_block3_out[0][0]           \n",
      "__________________________________________________________________________________________________\n",
      "conv3_block4_preact_relu (Activ (None, 28, 28, 512)  0           conv3_block4_preact_bn[0][0]     \n",
      "__________________________________________________________________________________________________\n",
      "conv3_block4_1_conv (Conv2D)    (None, 28, 28, 128)  65536       conv3_block4_preact_relu[0][0]   \n",
      "__________________________________________________________________________________________________\n",
      "conv3_block4_1_bn (BatchNormali (None, 28, 28, 128)  512         conv3_block4_1_conv[0][0]        \n",
      "__________________________________________________________________________________________________\n",
      "conv3_block4_1_relu (Activation (None, 28, 28, 128)  0           conv3_block4_1_bn[0][0]          \n",
      "__________________________________________________________________________________________________\n",
      "conv3_block4_2_pad (ZeroPadding (None, 30, 30, 128)  0           conv3_block4_1_relu[0][0]        \n",
      "__________________________________________________________________________________________________\n",
      "conv3_block4_2_conv (Conv2D)    (None, 14, 14, 128)  147456      conv3_block4_2_pad[0][0]         \n",
      "__________________________________________________________________________________________________\n",
      "conv3_block4_2_bn (BatchNormali (None, 14, 14, 128)  512         conv3_block4_2_conv[0][0]        \n",
      "__________________________________________________________________________________________________\n",
      "conv3_block4_2_relu (Activation (None, 14, 14, 128)  0           conv3_block4_2_bn[0][0]          \n",
      "__________________________________________________________________________________________________\n",
      "max_pooling2d_5 (MaxPooling2D)  (None, 14, 14, 512)  0           conv3_block3_out[0][0]           \n",
      "__________________________________________________________________________________________________\n",
      "conv3_block4_3_conv (Conv2D)    (None, 14, 14, 512)  66048       conv3_block4_2_relu[0][0]        \n",
      "__________________________________________________________________________________________________\n",
      "conv3_block4_out (Add)          (None, 14, 14, 512)  0           max_pooling2d_5[0][0]            \n",
      "                                                                 conv3_block4_3_conv[0][0]        \n",
      "__________________________________________________________________________________________________\n",
      "conv4_block1_preact_bn (BatchNo (None, 14, 14, 512)  2048        conv3_block4_out[0][0]           \n",
      "__________________________________________________________________________________________________\n",
      "conv4_block1_preact_relu (Activ (None, 14, 14, 512)  0           conv4_block1_preact_bn[0][0]     \n",
      "__________________________________________________________________________________________________\n",
      "conv4_block1_1_conv (Conv2D)    (None, 14, 14, 256)  131072      conv4_block1_preact_relu[0][0]   \n",
      "__________________________________________________________________________________________________\n",
      "conv4_block1_1_bn (BatchNormali (None, 14, 14, 256)  1024        conv4_block1_1_conv[0][0]        \n",
      "__________________________________________________________________________________________________\n",
      "conv4_block1_1_relu (Activation (None, 14, 14, 256)  0           conv4_block1_1_bn[0][0]          \n",
      "__________________________________________________________________________________________________\n",
      "conv4_block1_2_pad (ZeroPadding (None, 16, 16, 256)  0           conv4_block1_1_relu[0][0]        \n",
      "__________________________________________________________________________________________________\n",
      "conv4_block1_2_conv (Conv2D)    (None, 14, 14, 256)  589824      conv4_block1_2_pad[0][0]         \n",
      "__________________________________________________________________________________________________\n",
      "conv4_block1_2_bn (BatchNormali (None, 14, 14, 256)  1024        conv4_block1_2_conv[0][0]        \n",
      "__________________________________________________________________________________________________\n",
      "conv4_block1_2_relu (Activation (None, 14, 14, 256)  0           conv4_block1_2_bn[0][0]          \n",
      "__________________________________________________________________________________________________\n",
      "conv4_block1_0_conv (Conv2D)    (None, 14, 14, 1024) 525312      conv4_block1_preact_relu[0][0]   \n",
      "__________________________________________________________________________________________________\n",
      "conv4_block1_3_conv (Conv2D)    (None, 14, 14, 1024) 263168      conv4_block1_2_relu[0][0]        \n",
      "__________________________________________________________________________________________________\n",
      "conv4_block1_out (Add)          (None, 14, 14, 1024) 0           conv4_block1_0_conv[0][0]        \n",
      "                                                                 conv4_block1_3_conv[0][0]        \n",
      "__________________________________________________________________________________________________\n",
      "conv4_block2_preact_bn (BatchNo (None, 14, 14, 1024) 4096        conv4_block1_out[0][0]           \n",
      "__________________________________________________________________________________________________\n",
      "conv4_block2_preact_relu (Activ (None, 14, 14, 1024) 0           conv4_block2_preact_bn[0][0]     \n",
      "__________________________________________________________________________________________________\n",
      "conv4_block2_1_conv (Conv2D)    (None, 14, 14, 256)  262144      conv4_block2_preact_relu[0][0]   \n",
      "__________________________________________________________________________________________________\n",
      "conv4_block2_1_bn (BatchNormali (None, 14, 14, 256)  1024        conv4_block2_1_conv[0][0]        \n",
      "__________________________________________________________________________________________________\n",
      "conv4_block2_1_relu (Activation (None, 14, 14, 256)  0           conv4_block2_1_bn[0][0]          \n",
      "__________________________________________________________________________________________________\n",
      "conv4_block2_2_pad (ZeroPadding (None, 16, 16, 256)  0           conv4_block2_1_relu[0][0]        \n",
      "__________________________________________________________________________________________________\n",
      "conv4_block2_2_conv (Conv2D)    (None, 14, 14, 256)  589824      conv4_block2_2_pad[0][0]         \n",
      "__________________________________________________________________________________________________\n",
      "conv4_block2_2_bn (BatchNormali (None, 14, 14, 256)  1024        conv4_block2_2_conv[0][0]        \n",
      "__________________________________________________________________________________________________\n",
      "conv4_block2_2_relu (Activation (None, 14, 14, 256)  0           conv4_block2_2_bn[0][0]          \n",
      "__________________________________________________________________________________________________\n",
      "conv4_block2_3_conv (Conv2D)    (None, 14, 14, 1024) 263168      conv4_block2_2_relu[0][0]        \n",
      "__________________________________________________________________________________________________\n",
      "conv4_block2_out (Add)          (None, 14, 14, 1024) 0           conv4_block1_out[0][0]           \n",
      "                                                                 conv4_block2_3_conv[0][0]        \n",
      "__________________________________________________________________________________________________\n",
      "conv4_block3_preact_bn (BatchNo (None, 14, 14, 1024) 4096        conv4_block2_out[0][0]           \n",
      "__________________________________________________________________________________________________\n",
      "conv4_block3_preact_relu (Activ (None, 14, 14, 1024) 0           conv4_block3_preact_bn[0][0]     \n",
      "__________________________________________________________________________________________________\n",
      "conv4_block3_1_conv (Conv2D)    (None, 14, 14, 256)  262144      conv4_block3_preact_relu[0][0]   \n",
      "__________________________________________________________________________________________________\n",
      "conv4_block3_1_bn (BatchNormali (None, 14, 14, 256)  1024        conv4_block3_1_conv[0][0]        \n",
      "__________________________________________________________________________________________________\n",
      "conv4_block3_1_relu (Activation (None, 14, 14, 256)  0           conv4_block3_1_bn[0][0]          \n",
      "__________________________________________________________________________________________________\n",
      "conv4_block3_2_pad (ZeroPadding (None, 16, 16, 256)  0           conv4_block3_1_relu[0][0]        \n",
      "__________________________________________________________________________________________________\n",
      "conv4_block3_2_conv (Conv2D)    (None, 14, 14, 256)  589824      conv4_block3_2_pad[0][0]         \n",
      "__________________________________________________________________________________________________\n",
      "conv4_block3_2_bn (BatchNormali (None, 14, 14, 256)  1024        conv4_block3_2_conv[0][0]        \n",
      "__________________________________________________________________________________________________\n",
      "conv4_block3_2_relu (Activation (None, 14, 14, 256)  0           conv4_block3_2_bn[0][0]          \n",
      "__________________________________________________________________________________________________\n",
      "conv4_block3_3_conv (Conv2D)    (None, 14, 14, 1024) 263168      conv4_block3_2_relu[0][0]        \n",
      "__________________________________________________________________________________________________\n",
      "conv4_block3_out (Add)          (None, 14, 14, 1024) 0           conv4_block2_out[0][0]           \n",
      "                                                                 conv4_block3_3_conv[0][0]        \n",
      "__________________________________________________________________________________________________\n",
      "conv4_block4_preact_bn (BatchNo (None, 14, 14, 1024) 4096        conv4_block3_out[0][0]           \n",
      "__________________________________________________________________________________________________\n",
      "conv4_block4_preact_relu (Activ (None, 14, 14, 1024) 0           conv4_block4_preact_bn[0][0]     \n",
      "__________________________________________________________________________________________________\n",
      "conv4_block4_1_conv (Conv2D)    (None, 14, 14, 256)  262144      conv4_block4_preact_relu[0][0]   \n",
      "__________________________________________________________________________________________________\n",
      "conv4_block4_1_bn (BatchNormali (None, 14, 14, 256)  1024        conv4_block4_1_conv[0][0]        \n",
      "__________________________________________________________________________________________________\n",
      "conv4_block4_1_relu (Activation (None, 14, 14, 256)  0           conv4_block4_1_bn[0][0]          \n",
      "__________________________________________________________________________________________________\n",
      "conv4_block4_2_pad (ZeroPadding (None, 16, 16, 256)  0           conv4_block4_1_relu[0][0]        \n",
      "__________________________________________________________________________________________________\n",
      "conv4_block4_2_conv (Conv2D)    (None, 14, 14, 256)  589824      conv4_block4_2_pad[0][0]         \n",
      "__________________________________________________________________________________________________\n",
      "conv4_block4_2_bn (BatchNormali (None, 14, 14, 256)  1024        conv4_block4_2_conv[0][0]        \n",
      "__________________________________________________________________________________________________\n",
      "conv4_block4_2_relu (Activation (None, 14, 14, 256)  0           conv4_block4_2_bn[0][0]          \n",
      "__________________________________________________________________________________________________\n",
      "conv4_block4_3_conv (Conv2D)    (None, 14, 14, 1024) 263168      conv4_block4_2_relu[0][0]        \n",
      "__________________________________________________________________________________________________\n",
      "conv4_block4_out (Add)          (None, 14, 14, 1024) 0           conv4_block3_out[0][0]           \n",
      "                                                                 conv4_block4_3_conv[0][0]        \n",
      "__________________________________________________________________________________________________\n",
      "conv4_block5_preact_bn (BatchNo (None, 14, 14, 1024) 4096        conv4_block4_out[0][0]           \n",
      "__________________________________________________________________________________________________\n",
      "conv4_block5_preact_relu (Activ (None, 14, 14, 1024) 0           conv4_block5_preact_bn[0][0]     \n",
      "__________________________________________________________________________________________________\n",
      "conv4_block5_1_conv (Conv2D)    (None, 14, 14, 256)  262144      conv4_block5_preact_relu[0][0]   \n",
      "__________________________________________________________________________________________________\n",
      "conv4_block5_1_bn (BatchNormali (None, 14, 14, 256)  1024        conv4_block5_1_conv[0][0]        \n",
      "__________________________________________________________________________________________________\n",
      "conv4_block5_1_relu (Activation (None, 14, 14, 256)  0           conv4_block5_1_bn[0][0]          \n",
      "__________________________________________________________________________________________________\n",
      "conv4_block5_2_pad (ZeroPadding (None, 16, 16, 256)  0           conv4_block5_1_relu[0][0]        \n",
      "__________________________________________________________________________________________________\n",
      "conv4_block5_2_conv (Conv2D)    (None, 14, 14, 256)  589824      conv4_block5_2_pad[0][0]         \n",
      "__________________________________________________________________________________________________\n",
      "conv4_block5_2_bn (BatchNormali (None, 14, 14, 256)  1024        conv4_block5_2_conv[0][0]        \n",
      "__________________________________________________________________________________________________\n",
      "conv4_block5_2_relu (Activation (None, 14, 14, 256)  0           conv4_block5_2_bn[0][0]          \n",
      "__________________________________________________________________________________________________\n",
      "conv4_block5_3_conv (Conv2D)    (None, 14, 14, 1024) 263168      conv4_block5_2_relu[0][0]        \n",
      "__________________________________________________________________________________________________\n",
      "conv4_block5_out (Add)          (None, 14, 14, 1024) 0           conv4_block4_out[0][0]           \n",
      "                                                                 conv4_block5_3_conv[0][0]        \n",
      "__________________________________________________________________________________________________\n",
      "conv4_block6_preact_bn (BatchNo (None, 14, 14, 1024) 4096        conv4_block5_out[0][0]           \n",
      "__________________________________________________________________________________________________\n",
      "conv4_block6_preact_relu (Activ (None, 14, 14, 1024) 0           conv4_block6_preact_bn[0][0]     \n",
      "__________________________________________________________________________________________________\n",
      "conv4_block6_1_conv (Conv2D)    (None, 14, 14, 256)  262144      conv4_block6_preact_relu[0][0]   \n",
      "__________________________________________________________________________________________________\n",
      "conv4_block6_1_bn (BatchNormali (None, 14, 14, 256)  1024        conv4_block6_1_conv[0][0]        \n",
      "__________________________________________________________________________________________________\n",
      "conv4_block6_1_relu (Activation (None, 14, 14, 256)  0           conv4_block6_1_bn[0][0]          \n",
      "__________________________________________________________________________________________________\n",
      "conv4_block6_2_pad (ZeroPadding (None, 16, 16, 256)  0           conv4_block6_1_relu[0][0]        \n",
      "__________________________________________________________________________________________________\n",
      "conv4_block6_2_conv (Conv2D)    (None, 7, 7, 256)    589824      conv4_block6_2_pad[0][0]         \n",
      "__________________________________________________________________________________________________\n",
      "conv4_block6_2_bn (BatchNormali (None, 7, 7, 256)    1024        conv4_block6_2_conv[0][0]        \n",
      "__________________________________________________________________________________________________\n",
      "conv4_block6_2_relu (Activation (None, 7, 7, 256)    0           conv4_block6_2_bn[0][0]          \n",
      "__________________________________________________________________________________________________\n",
      "max_pooling2d_6 (MaxPooling2D)  (None, 7, 7, 1024)   0           conv4_block5_out[0][0]           \n",
      "__________________________________________________________________________________________________\n",
      "conv4_block6_3_conv (Conv2D)    (None, 7, 7, 1024)   263168      conv4_block6_2_relu[0][0]        \n",
      "__________________________________________________________________________________________________\n",
      "conv4_block6_out (Add)          (None, 7, 7, 1024)   0           max_pooling2d_6[0][0]            \n",
      "                                                                 conv4_block6_3_conv[0][0]        \n",
      "__________________________________________________________________________________________________\n",
      "conv5_block1_preact_bn (BatchNo (None, 7, 7, 1024)   4096        conv4_block6_out[0][0]           \n",
      "__________________________________________________________________________________________________\n",
      "conv5_block1_preact_relu (Activ (None, 7, 7, 1024)   0           conv5_block1_preact_bn[0][0]     \n",
      "__________________________________________________________________________________________________\n",
      "conv5_block1_1_conv (Conv2D)    (None, 7, 7, 512)    524288      conv5_block1_preact_relu[0][0]   \n",
      "__________________________________________________________________________________________________\n",
      "conv5_block1_1_bn (BatchNormali (None, 7, 7, 512)    2048        conv5_block1_1_conv[0][0]        \n",
      "__________________________________________________________________________________________________\n",
      "conv5_block1_1_relu (Activation (None, 7, 7, 512)    0           conv5_block1_1_bn[0][0]          \n",
      "__________________________________________________________________________________________________\n",
      "conv5_block1_2_pad (ZeroPadding (None, 9, 9, 512)    0           conv5_block1_1_relu[0][0]        \n",
      "__________________________________________________________________________________________________\n",
      "conv5_block1_2_conv (Conv2D)    (None, 7, 7, 512)    2359296     conv5_block1_2_pad[0][0]         \n",
      "__________________________________________________________________________________________________\n",
      "conv5_block1_2_bn (BatchNormali (None, 7, 7, 512)    2048        conv5_block1_2_conv[0][0]        \n",
      "__________________________________________________________________________________________________\n",
      "conv5_block1_2_relu (Activation (None, 7, 7, 512)    0           conv5_block1_2_bn[0][0]          \n",
      "__________________________________________________________________________________________________\n",
      "conv5_block1_0_conv (Conv2D)    (None, 7, 7, 2048)   2099200     conv5_block1_preact_relu[0][0]   \n",
      "__________________________________________________________________________________________________\n",
      "conv5_block1_3_conv (Conv2D)    (None, 7, 7, 2048)   1050624     conv5_block1_2_relu[0][0]        \n",
      "__________________________________________________________________________________________________\n",
      "conv5_block1_out (Add)          (None, 7, 7, 2048)   0           conv5_block1_0_conv[0][0]        \n",
      "                                                                 conv5_block1_3_conv[0][0]        \n",
      "__________________________________________________________________________________________________\n",
      "conv5_block2_preact_bn (BatchNo (None, 7, 7, 2048)   8192        conv5_block1_out[0][0]           \n",
      "__________________________________________________________________________________________________\n",
      "conv5_block2_preact_relu (Activ (None, 7, 7, 2048)   0           conv5_block2_preact_bn[0][0]     \n",
      "__________________________________________________________________________________________________\n",
      "conv5_block2_1_conv (Conv2D)    (None, 7, 7, 512)    1048576     conv5_block2_preact_relu[0][0]   \n",
      "__________________________________________________________________________________________________\n",
      "conv5_block2_1_bn (BatchNormali (None, 7, 7, 512)    2048        conv5_block2_1_conv[0][0]        \n",
      "__________________________________________________________________________________________________\n",
      "conv5_block2_1_relu (Activation (None, 7, 7, 512)    0           conv5_block2_1_bn[0][0]          \n",
      "__________________________________________________________________________________________________\n",
      "conv5_block2_2_pad (ZeroPadding (None, 9, 9, 512)    0           conv5_block2_1_relu[0][0]        \n",
      "__________________________________________________________________________________________________\n",
      "conv5_block2_2_conv (Conv2D)    (None, 7, 7, 512)    2359296     conv5_block2_2_pad[0][0]         \n",
      "__________________________________________________________________________________________________\n",
      "conv5_block2_2_bn (BatchNormali (None, 7, 7, 512)    2048        conv5_block2_2_conv[0][0]        \n",
      "__________________________________________________________________________________________________\n",
      "conv5_block2_2_relu (Activation (None, 7, 7, 512)    0           conv5_block2_2_bn[0][0]          \n",
      "__________________________________________________________________________________________________\n",
      "conv5_block2_3_conv (Conv2D)    (None, 7, 7, 2048)   1050624     conv5_block2_2_relu[0][0]        \n",
      "__________________________________________________________________________________________________\n",
      "conv5_block2_out (Add)          (None, 7, 7, 2048)   0           conv5_block1_out[0][0]           \n",
      "                                                                 conv5_block2_3_conv[0][0]        \n",
      "__________________________________________________________________________________________________\n",
      "conv5_block3_preact_bn (BatchNo (None, 7, 7, 2048)   8192        conv5_block2_out[0][0]           \n",
      "__________________________________________________________________________________________________\n",
      "conv5_block3_preact_relu (Activ (None, 7, 7, 2048)   0           conv5_block3_preact_bn[0][0]     \n",
      "__________________________________________________________________________________________________\n",
      "conv5_block3_1_conv (Conv2D)    (None, 7, 7, 512)    1048576     conv5_block3_preact_relu[0][0]   \n",
      "__________________________________________________________________________________________________\n",
      "conv5_block3_1_bn (BatchNormali (None, 7, 7, 512)    2048        conv5_block3_1_conv[0][0]        \n",
      "__________________________________________________________________________________________________\n",
      "conv5_block3_1_relu (Activation (None, 7, 7, 512)    0           conv5_block3_1_bn[0][0]          \n",
      "__________________________________________________________________________________________________\n",
      "conv5_block3_2_pad (ZeroPadding (None, 9, 9, 512)    0           conv5_block3_1_relu[0][0]        \n",
      "__________________________________________________________________________________________________\n",
      "conv5_block3_2_conv (Conv2D)    (None, 7, 7, 512)    2359296     conv5_block3_2_pad[0][0]         \n",
      "__________________________________________________________________________________________________\n",
      "conv5_block3_2_bn (BatchNormali (None, 7, 7, 512)    2048        conv5_block3_2_conv[0][0]        \n",
      "__________________________________________________________________________________________________\n",
      "conv5_block3_2_relu (Activation (None, 7, 7, 512)    0           conv5_block3_2_bn[0][0]          \n",
      "__________________________________________________________________________________________________\n",
      "conv5_block3_3_conv (Conv2D)    (None, 7, 7, 2048)   1050624     conv5_block3_2_relu[0][0]        \n",
      "__________________________________________________________________________________________________\n",
      "conv5_block3_out (Add)          (None, 7, 7, 2048)   0           conv5_block2_out[0][0]           \n",
      "                                                                 conv5_block3_3_conv[0][0]        \n",
      "__________________________________________________________________________________________________\n",
      "post_bn (BatchNormalization)    (None, 7, 7, 2048)   8192        conv5_block3_out[0][0]           \n",
      "__________________________________________________________________________________________________\n",
      "post_relu (Activation)          (None, 7, 7, 2048)   0           post_bn[0][0]                    \n",
      "__________________________________________________________________________________________________\n",
      "avg_pool (GlobalAveragePooling2 (None, 2048)         0           post_relu[0][0]                  \n",
      "==================================================================================================\n",
      "Total params: 23,564,800\n",
      "Trainable params: 23,519,360\n",
      "Non-trainable params: 45,440\n",
      "__________________________________________________________________________________________________\n"
     ]
    }
   ],
   "source": [
    "# Define ResNet50 base model \n",
    "base_resnet = tf.keras.applications.ResNet50V2(weights = 'imagenet', include_top = False, \n",
    "                                               input_shape = (224, 224, 3),\n",
    "                                              pooling='avg')\n",
    "\n",
    "# Use pretrained weights in base model\n",
    "#for layer in base_resnet.layers:\n",
    "#    layer.trainable = False\n",
    "\n",
    "# Inspect resnet50 model architecture \n",
    "base_resnet.summary()"
   ]
  },
  {
   "cell_type": "code",
   "execution_count": 23,
   "metadata": {
    "execution": {
     "iopub.execute_input": "2021-09-07T13:52:13.853963Z",
     "iopub.status.busy": "2021-09-07T13:52:13.853613Z",
     "iopub.status.idle": "2021-09-07T13:52:13.931099Z",
     "shell.execute_reply": "2021-09-07T13:52:13.930130Z",
     "shell.execute_reply.started": "2021-09-07T13:52:13.853926Z"
    }
   },
   "outputs": [
    {
     "name": "stdout",
     "output_type": "stream",
     "text": [
      "Model: \"sequential_1\"\n",
      "_________________________________________________________________\n",
      "Layer (type)                 Output Shape              Param #   \n",
      "=================================================================\n",
      "resnet50v2 (Functional)      (None, 2048)              23564800  \n",
      "_________________________________________________________________\n",
      "dropout (Dropout)            (None, 2048)              0         \n",
      "_________________________________________________________________\n",
      "dense_1 (Dense)              (None, 13)                26637     \n",
      "=================================================================\n",
      "Total params: 23,591,437\n",
      "Trainable params: 23,545,997\n",
      "Non-trainable params: 45,440\n",
      "_________________________________________________________________\n"
     ]
    }
   ],
   "source": [
    "# Define top output layer \n",
    "resnet50 = tf.keras.Sequential()\n",
    "resnet50.add(base_resnet)\n",
    "resnet50.add(Dropout(0.2))\n",
    "resnet50.add(Dense(13, activation='sigmoid'))\n",
    "\n",
    "# Compile model\n",
    "resnet50.compile(optimizer = tf.keras.optimizers.Adam(\n",
    "    learning_rate=lr), loss = 'binary_crossentropy', metrics = ['binary_accuracy'])\n",
    "\n",
    "# Model summary \n",
    "resnet50.summary()"
   ]
  },
  {
   "cell_type": "code",
   "execution_count": 24,
   "metadata": {
    "execution": {
     "iopub.execute_input": "2021-09-07T13:52:13.932865Z",
     "iopub.status.busy": "2021-09-07T13:52:13.932496Z",
     "iopub.status.idle": "2021-09-07T14:58:19.046055Z",
     "shell.execute_reply": "2021-09-07T14:58:19.045213Z",
     "shell.execute_reply.started": "2021-09-07T13:52:13.932825Z"
    }
   },
   "outputs": [
    {
     "name": "stdout",
     "output_type": "stream",
     "text": [
      "Epoch 1/12\n",
      "450/450 [==============================] - 262s 302ms/step - loss: 0.3280 - binary_accuracy: 0.8707 - val_loss: 0.2840 - val_binary_accuracy: 0.8928\n",
      "Epoch 2/12\n",
      "450/450 [==============================] - 256s 302ms/step - loss: 0.2719 - binary_accuracy: 0.8961 - val_loss: 0.2756 - val_binary_accuracy: 0.8934\n",
      "Epoch 3/12\n",
      "450/450 [==============================] - 137s 304ms/step - loss: 0.2594 - binary_accuracy: 0.8989 - val_loss: 0.2829 - val_binary_accuracy: 0.8904\n",
      "Epoch 4/12\n",
      "450/450 [==============================] - 137s 305ms/step - loss: 0.2470 - binary_accuracy: 0.9034 - val_loss: 0.2884 - val_binary_accuracy: 0.8882\n",
      "Epoch 5/12\n",
      "450/450 [==============================] - 137s 304ms/step - loss: 0.2326 - binary_accuracy: 0.9087 - val_loss: 0.2811 - val_binary_accuracy: 0.8914\n",
      "Epoch 6/12\n",
      "450/450 [==============================] - 137s 304ms/step - loss: 0.2171 - binary_accuracy: 0.9146 - val_loss: 0.2941 - val_binary_accuracy: 0.8876\n",
      "Epoch 00006: early stopping\n"
     ]
    }
   ],
   "source": [
    "# Fit model\n",
    "history_resnet50 = resnet50.fit(train_dataset,epochs= epoch, steps_per_epoch= X_train.shape[0] // batch_size, \n",
    "              validation_data = val_dataset, validation_steps = X_val.shape[0] // batch_size, \n",
    "              callbacks = [early_stopping]\n",
    ")"
   ]
  },
  {
   "cell_type": "code",
   "execution_count": 47,
   "metadata": {
    "execution": {
     "iopub.execute_input": "2021-09-07T14:58:19.052271Z",
     "iopub.status.busy": "2021-09-07T14:58:19.050288Z",
     "iopub.status.idle": "2021-09-07T14:58:19.483515Z",
     "shell.execute_reply": "2021-09-07T14:58:19.482702Z",
     "shell.execute_reply.started": "2021-09-07T14:58:19.052232Z"
    }
   },
   "outputs": [
    {
     "data": {
      "image/png": "[encoded data removed]",
      "text/plain": [
       "<Figure size 864x576 with 1 Axes>"
      ]
     },
     "metadata": {
      "needs_background": "light"
     },
     "output_type": "display_data"
    }
   ],
   "source": [
    "# Check out our train loss and test loss over epochs.\n",
    "train_loss = history_resnet50.history['loss']\n",
    "test_loss = history_resnet50.history['val_loss']\n",
    "\n",
    "# Set figure size.\n",
    "plt.figure(figsize=(12, 8))\n",
    "\n",
    "# Generate line plot of training, testing loss over epochs.\n",
    "plt.plot(train_loss, label='Training Loss', color='#185fad')\n",
    "plt.plot(test_loss, label='Testing Loss', color='orange')\n",
    "\n",
    "# Set title\n",
    "plt.title('Training and Testing Loss by Epoch', fontsize = 25)\n",
    "plt.xlabel('Epoch', fontsize = 18)\n",
    "plt.ylabel('Binary Crossentropy', fontsize = 18)\n",
    "plt.xticks(np.arange(6), np.arange(6)+1)\n",
    "\n",
    "plt.legend(fontsize = 18);"
   ]
  },
  {
   "cell_type": "code",
   "execution_count": 26,
   "metadata": {
    "execution": {
     "iopub.execute_input": "2021-09-07T15:05:15.859758Z",
     "iopub.status.busy": "2021-09-07T15:05:15.859417Z",
     "iopub.status.idle": "2021-09-07T15:05:31.596011Z",
     "shell.execute_reply": "2021-09-07T15:05:31.595188Z",
     "shell.execute_reply.started": "2021-09-07T15:05:15.859729Z"
    }
   },
   "outputs": [],
   "source": [
    "# Store ResNet50 predictions\n",
    "y_pred_resnet50 = resnet50.predict(val_dataset, verbose = 0, batch_size = batch_size, steps = None, callbacks = None)"
   ]
  },
  {
   "cell_type": "code",
   "execution_count": 27,
   "metadata": {
    "execution": {
     "iopub.execute_input": "2021-09-07T15:05:36.441942Z",
     "iopub.status.busy": "2021-09-07T15:05:36.441618Z",
     "iopub.status.idle": "2021-09-07T15:05:36.456400Z",
     "shell.execute_reply": "2021-09-07T15:05:36.455336Z",
     "shell.execute_reply.started": "2021-09-07T15:05:36.441913Z"
    }
   },
   "outputs": [
    {
     "data": {
      "text/plain": [
       "array([2.0991406e-06, 3.8556345e-06, 4.2389970e-06, ..., 9.9959368e-01,\n",
       "       9.9975330e-01, 9.9990392e-01], dtype=float32)"
      ]
     },
     "execution_count": 27,
     "metadata": {},
     "output_type": "execute_result"
    }
   ],
   "source": [
    "# Check prediction values\n",
    "np.unique(y_pred_resnet50)"
   ]
  },
  {
   "cell_type": "code",
   "execution_count": 30,
   "metadata": {
    "execution": {
     "iopub.execute_input": "2021-09-07T15:06:11.278790Z",
     "iopub.status.busy": "2021-09-07T15:06:11.278468Z",
     "iopub.status.idle": "2021-09-07T15:06:11.283709Z",
     "shell.execute_reply": "2021-09-07T15:06:11.282576Z",
     "shell.execute_reply.started": "2021-09-07T15:06:11.278760Z"
    }
   },
   "outputs": [],
   "source": [
    "# Apply threshold of 0.3 to sigmoid output of indepedent probabilty for each label\n",
    "y_pred_resnet50 = np.where(y_pred_resnet50 > 0.3, 1, 0)"
   ]
  },
  {
   "cell_type": "code",
   "execution_count": 31,
   "metadata": {
    "execution": {
     "iopub.execute_input": "2021-09-07T15:06:12.947826Z",
     "iopub.status.busy": "2021-09-07T15:06:12.947503Z",
     "iopub.status.idle": "2021-09-07T15:06:12.963638Z",
     "shell.execute_reply": "2021-09-07T15:06:12.962666Z",
     "shell.execute_reply.started": "2021-09-07T15:06:12.947798Z"
    }
   },
   "outputs": [
    {
     "data": {
      "text/plain": [
       "array([[[4978,  570],\n",
       "        [1028,  628]],\n",
       "\n",
       "       [[6628,  234],\n",
       "        [ 188,  154]],\n",
       "\n",
       "       [[6564,   70],\n",
       "        [ 544,   26]],\n",
       "\n",
       "       [[6764,  165],\n",
       "        [ 199,   76]],\n",
       "\n",
       "       [[4570,  902],\n",
       "        [ 562, 1170]],\n",
       "\n",
       "       [[6702,  217],\n",
       "        [ 181,  104]],\n",
       "\n",
       "       [[6935,   19],\n",
       "        [ 239,   11]],\n",
       "\n",
       "       [[1198, 3250],\n",
       "        [ 283, 2473]],\n",
       "\n",
       "       [[6299,   99],\n",
       "        [ 636,  170]],\n",
       "\n",
       "       [[5932,  330],\n",
       "        [ 755,  187]],\n",
       "\n",
       "       [[6541,  215],\n",
       "        [ 383,   65]],\n",
       "\n",
       "       [[7028,    1],\n",
       "        [ 175,    0]],\n",
       "\n",
       "       [[6166,  511],\n",
       "        [ 298,  229]]])"
      ]
     },
     "execution_count": 31,
     "metadata": {},
     "output_type": "execute_result"
    }
   ],
   "source": [
    "# ResNet50 Multi-label confusion matrix\n",
    "multilabel_confusion_matrix(y_val, y_pred_resnet50)"
   ]
  },
  {
   "cell_type": "code",
   "execution_count": 50,
   "metadata": {
    "execution": {
     "iopub.execute_input": "2021-09-07T15:10:28.003867Z",
     "iopub.status.busy": "2021-09-07T15:10:28.003535Z",
     "iopub.status.idle": "2021-09-07T15:10:28.032567Z",
     "shell.execute_reply": "2021-09-07T15:10:28.031267Z",
     "shell.execute_reply.started": "2021-09-07T15:10:28.003838Z"
    }
   },
   "outputs": [
    {
     "name": "stdout",
     "output_type": "stream",
     "text": [
      "                    precision    recall  f1-score   support\n",
      "\n",
      "       Atelectasis       0.52      0.38      0.44      1656\n",
      "      Cardiomegaly       0.40      0.45      0.42       342\n",
      "     Consolidation       0.27      0.05      0.08       570\n",
      "             Edema       0.32      0.28      0.29       275\n",
      "          Effusion       0.56      0.68      0.62      1732\n",
      "         Emphysema       0.32      0.36      0.34       285\n",
      "          Fibrosis       0.37      0.04      0.08       250\n",
      "      Infiltration       0.43      0.90      0.58      2756\n",
      "              Mass       0.63      0.21      0.32       806\n",
      "            Nodule       0.36      0.20      0.26       942\n",
      "Pleural_Thickening       0.23      0.15      0.18       448\n",
      "         Pneumonia       0.00      0.00      0.00       175\n",
      "      Pneumothorax       0.31      0.43      0.36       527\n",
      "\n",
      "         micro avg       0.45      0.49      0.47     10764\n",
      "         macro avg       0.36      0.32      0.31     10764\n",
      "      weighted avg       0.44      0.49      0.42     10764\n",
      "       samples avg       0.46      0.52      0.46     10764\n",
      "\n"
     ]
    },
    {
     "name": "stderr",
     "output_type": "stream",
     "text": [
      "/home/daryl/anaconda3/envs/tfsandbox/lib/python3.8/site-packages/sklearn/metrics/_classification.py:1245: UndefinedMetricWarning: Precision and F-score are ill-defined and being set to 0.0 in samples with no predicted labels. Use `zero_division` parameter to control this behavior.\n",
      "  _warn_prf(average, modifier, msg_start, len(result))\n",
      "/home/daryl/anaconda3/envs/tfsandbox/lib/python3.8/site-packages/sklearn/metrics/_classification.py:1245: UndefinedMetricWarning: Recall and F-score are ill-defined and being set to 0.0 in samples with no true labels. Use `zero_division` parameter to control this behavior.\n",
      "  _warn_prf(average, modifier, msg_start, len(result))\n"
     ]
    }
   ],
   "source": [
    "# Print ResNet50 classification report\n",
    "print(classification_report(y_val, y_pred_resnet50, target_names = columns))"
   ]
  },
  {
   "cell_type": "markdown",
   "metadata": {},
   "source": [
    "####  Transfer learning from MobileNetV2"
   ]
  },
  {
   "cell_type": "code",
   "execution_count": 34,
   "metadata": {
    "execution": {
     "iopub.execute_input": "2021-09-07T15:14:12.103290Z",
     "iopub.status.busy": "2021-09-07T15:14:12.102929Z",
     "iopub.status.idle": "2021-09-07T15:14:13.129721Z",
     "shell.execute_reply": "2021-09-07T15:14:13.128879Z",
     "shell.execute_reply.started": "2021-09-07T15:14:12.103257Z"
    }
   },
   "outputs": [
    {
     "name": "stdout",
     "output_type": "stream",
     "text": [
      "Model: \"sequential_2\"\n",
      "_________________________________________________________________\n",
      "Layer (type)                 Output Shape              Param #   \n",
      "=================================================================\n",
      "mobilenetv2_1.00_224 (Functi (None, 1280)              2257984   \n",
      "_________________________________________________________________\n",
      "dropout_1 (Dropout)          (None, 1280)              0         \n",
      "_________________________________________________________________\n",
      "dense_2 (Dense)              (None, 13)                16653     \n",
      "=================================================================\n",
      "Total params: 2,274,637\n",
      "Trainable params: 2,240,525\n",
      "Non-trainable params: 34,112\n",
      "_________________________________________________________________\n"
     ]
    }
   ],
   "source": [
    "# Define MobileNetV2 top output layer \n",
    "base_mobilenetv2 = tf.keras.applications.MobileNetV2(weights = 'imagenet', include_top = False, \n",
    "                                                   pooling='avg',\n",
    "                                                   input_shape = (224, 224, 3))\n",
    "mobilenetv2 = tf.keras.Sequential()\n",
    "mobilenetv2.add(base_mobilenetv2)\n",
    "mobilenetv2.add(Dropout(0.2))\n",
    "mobilenetv2.add(Dense(13, activation='sigmoid'))\n",
    "\n",
    "# Compile model\n",
    "mobilenetv2.compile(optimizer = tf.keras.optimizers.Adam(\n",
    "    learning_rate=lr), loss = 'binary_crossentropy', metrics = ['binary_accuracy'])\n",
    "\n",
    "# Model summary\n",
    "mobilenetv2.summary()"
   ]
  },
  {
   "cell_type": "code",
   "execution_count": 37,
   "metadata": {
    "execution": {
     "iopub.execute_input": "2021-09-07T15:24:17.254551Z",
     "iopub.status.busy": "2021-09-07T15:24:17.254197Z",
     "iopub.status.idle": "2021-09-07T15:49:20.584659Z",
     "shell.execute_reply": "2021-09-07T15:49:20.583837Z",
     "shell.execute_reply.started": "2021-09-07T15:24:17.254515Z"
    }
   },
   "outputs": [
    {
     "name": "stdout",
     "output_type": "stream",
     "text": [
      "Epoch 1/12\n",
      "450/450 [==============================] - 229s 290ms/step - loss: 0.3466 - binary_accuracy: 0.8606 - val_loss: 0.4125 - val_binary_accuracy: 0.8386\n",
      "Epoch 2/12\n",
      "450/450 [==============================] - 228s 293ms/step - loss: 0.2809 - binary_accuracy: 0.8927 - val_loss: 0.3226 - val_binary_accuracy: 0.8862\n",
      "Epoch 3/12\n",
      "450/450 [==============================] - 133s 295ms/step - loss: 0.2663 - binary_accuracy: 0.8973 - val_loss: 0.3212 - val_binary_accuracy: 0.8852\n",
      "Epoch 4/12\n",
      "450/450 [==============================] - 133s 295ms/step - loss: 0.2564 - binary_accuracy: 0.9004 - val_loss: 0.3076 - val_binary_accuracy: 0.8848\n",
      "Epoch 5/12\n",
      "450/450 [==============================] - 133s 295ms/step - loss: 0.2458 - binary_accuracy: 0.9037 - val_loss: 0.3645 - val_binary_accuracy: 0.8706\n",
      "Epoch 6/12\n",
      "450/450 [==============================] - 133s 296ms/step - loss: 0.2348 - binary_accuracy: 0.9074 - val_loss: 0.3238 - val_binary_accuracy: 0.8812\n",
      "Epoch 7/12\n",
      "450/450 [==============================] - 133s 295ms/step - loss: 0.2211 - binary_accuracy: 0.9122 - val_loss: 0.3128 - val_binary_accuracy: 0.8853\n",
      "Epoch 8/12\n",
      "450/450 [==============================] - 133s 295ms/step - loss: 0.2083 - binary_accuracy: 0.9178 - val_loss: 0.3366 - val_binary_accuracy: 0.8807\n",
      "Epoch 00008: early stopping\n"
     ]
    }
   ],
   "source": [
    "# Fit model\n",
    "history_dn = mobilenetv2.fit(train_dataset,epochs= epoch, steps_per_epoch= X_train.shape[0] // 64, \n",
    "              validation_data = val_dataset, validation_steps = X_val.shape[0] // 64, \n",
    "              callbacks = [early_stopping]\n",
    ")"
   ]
  },
  {
   "cell_type": "code",
   "execution_count": 48,
   "metadata": {
    "execution": {
     "iopub.status.busy": "2021-09-07T14:58:19.521036Z",
     "iopub.status.idle": "2021-09-07T14:58:19.521651Z"
    }
   },
   "outputs": [
    {
     "data": {
      "image/png": "[encoded data removed]",
      "text/plain": [
       "<Figure size 864x576 with 1 Axes>"
      ]
     },
     "metadata": {
      "needs_background": "light"
     },
     "output_type": "display_data"
    }
   ],
   "source": [
    "# Check out our train loss and test loss over epochs.\n",
    "train_loss = history_dn.history['loss']\n",
    "test_loss = history_dn.history['val_loss']\n",
    "\n",
    "# Set figure size.\n",
    "plt.figure(figsize=(12, 8))\n",
    "\n",
    "# Generate line plot of training, testing loss over epochs.\n",
    "plt.plot(train_loss, label='Training Loss', color='#185fad')\n",
    "plt.plot(test_loss, label='Validation Loss', color='orange')\n",
    "\n",
    "# Set title\n",
    "plt.title('Training and Validation Loss by Epoch', fontsize = 25)\n",
    "plt.xlabel('Epoch', fontsize = 18)\n",
    "plt.ylabel('Binary Crossentropy', fontsize = 18)\n",
    "plt.xticks(np.arange(8), np.arange(8)+1)\n",
    "\n",
    "plt.legend(fontsize = 18);"
   ]
  },
  {
   "cell_type": "code",
   "execution_count": 41,
   "metadata": {},
   "outputs": [],
   "source": [
    "# Store MobileNetV2 predictions\n",
    "y_pred_mobilenetv2 = mobilenetv2.predict(val_dataset, verbose = 0, batch_size = batch_size, steps = None, callbacks = None)"
   ]
  },
  {
   "cell_type": "code",
   "execution_count": 42,
   "metadata": {},
   "outputs": [
    {
     "data": {
      "text/plain": [
       "array([2.4677133e-06, 3.6261165e-06, 4.2249162e-06, ..., 9.9777311e-01,\n",
       "       9.9877530e-01, 9.9951363e-01], dtype=float32)"
      ]
     },
     "execution_count": 42,
     "metadata": {},
     "output_type": "execute_result"
    }
   ],
   "source": [
    "# Check prediction values \n",
    "np.unique(y_pred_mobilenetv2)"
   ]
  },
  {
   "cell_type": "code",
   "execution_count": 43,
   "metadata": {},
   "outputs": [],
   "source": [
    "# Apply threshold of 0.3 to sigmoid output of indepedent probabilty for each label\n",
    "y_pred_mobilenetv2 = np.where(y_pred_mobilenetv2 > 0.3, 1, 0)"
   ]
  },
  {
   "cell_type": "code",
   "execution_count": 44,
   "metadata": {},
   "outputs": [
    {
     "data": {
      "text/plain": [
       "array([[[5384,  164],\n",
       "        [1377,  279]],\n",
       "\n",
       "       [[6857,    5],\n",
       "        [ 323,   19]],\n",
       "\n",
       "       [[6620,   14],\n",
       "        [ 568,    2]],\n",
       "\n",
       "       [[6789,  140],\n",
       "        [ 219,   56]],\n",
       "\n",
       "       [[5288,  184],\n",
       "        [1215,  517]],\n",
       "\n",
       "       [[5228, 1691],\n",
       "        [  68,  217]],\n",
       "\n",
       "       [[6942,   12],\n",
       "        [ 242,    8]],\n",
       "\n",
       "       [[2835, 1613],\n",
       "        [1142, 1614]],\n",
       "\n",
       "       [[6226,  172],\n",
       "        [ 629,  177]],\n",
       "\n",
       "       [[6156,  106],\n",
       "        [ 833,  109]],\n",
       "\n",
       "       [[6547,  209],\n",
       "        [ 388,   60]],\n",
       "\n",
       "       [[7029,    0],\n",
       "        [ 175,    0]],\n",
       "\n",
       "       [[5735,  942],\n",
       "        [ 245,  282]]])"
      ]
     },
     "execution_count": 44,
     "metadata": {},
     "output_type": "execute_result"
    }
   ],
   "source": [
    "# MobileNetV2 Multi-label confusion matrix\n",
    "multilabel_confusion_matrix(y_val, y_pred_mobilenetv2)"
   ]
  },
  {
   "cell_type": "code",
   "execution_count": 51,
   "metadata": {},
   "outputs": [
    {
     "name": "stdout",
     "output_type": "stream",
     "text": [
      "                    precision    recall  f1-score   support\n",
      "\n",
      "       Atelectasis       0.63      0.17      0.27      1656\n",
      "      Cardiomegaly       0.79      0.06      0.10       342\n",
      "     Consolidation       0.12      0.00      0.01       570\n",
      "             Edema       0.29      0.20      0.24       275\n",
      "          Effusion       0.74      0.30      0.42      1732\n",
      "         Emphysema       0.11      0.76      0.20       285\n",
      "          Fibrosis       0.40      0.03      0.06       250\n",
      "      Infiltration       0.50      0.59      0.54      2756\n",
      "              Mass       0.51      0.22      0.31       806\n",
      "            Nodule       0.51      0.12      0.19       942\n",
      "Pleural_Thickening       0.22      0.13      0.17       448\n",
      "         Pneumonia       0.00      0.00      0.00       175\n",
      "      Pneumothorax       0.23      0.54      0.32       527\n",
      "\n",
      "         micro avg       0.39      0.31      0.35     10764\n",
      "         macro avg       0.39      0.24      0.22     10764\n",
      "      weighted avg       0.50      0.31      0.33     10764\n",
      "       samples avg       0.36      0.34      0.33     10764\n",
      "\n"
     ]
    },
    {
     "name": "stderr",
     "output_type": "stream",
     "text": [
      "/home/daryl/anaconda3/envs/tfsandbox/lib/python3.8/site-packages/sklearn/metrics/_classification.py:1245: UndefinedMetricWarning: Precision and F-score are ill-defined and being set to 0.0 in labels with no predicted samples. Use `zero_division` parameter to control this behavior.\n",
      "  _warn_prf(average, modifier, msg_start, len(result))\n",
      "/home/daryl/anaconda3/envs/tfsandbox/lib/python3.8/site-packages/sklearn/metrics/_classification.py:1245: UndefinedMetricWarning: Precision and F-score are ill-defined and being set to 0.0 in samples with no predicted labels. Use `zero_division` parameter to control this behavior.\n",
      "  _warn_prf(average, modifier, msg_start, len(result))\n",
      "/home/daryl/anaconda3/envs/tfsandbox/lib/python3.8/site-packages/sklearn/metrics/_classification.py:1245: UndefinedMetricWarning: Recall and F-score are ill-defined and being set to 0.0 in samples with no true labels. Use `zero_division` parameter to control this behavior.\n",
      "  _warn_prf(average, modifier, msg_start, len(result))\n"
     ]
    }
   ],
   "source": [
    "# Print MobileNetV2 classification report\n",
    "print(classification_report(y_val, y_pred_mobilenetv2, target_names = columns))"
   ]
  },
  {
   "cell_type": "markdown",
   "metadata": {},
   "source": [
    "## Model Evaluation\n",
    "\n",
    "Among the three models, ResNet50 transfer learning model suffered the most from overfitting as illustrated by the divergence between the training and validation loss in subsequent epochs of training. This suggested that it has learned the training data too well, including noise or random fluctuations. The overfitting is expected as ResNet50 is a relatively large model. The number of layers or parameters are a few more times greater than the CNN model I built and the MobileNetV2 transfer learning model. \n",
    "\n",
    "Macro-averaging is a single performance indicator obtained by averaging the score of individual classes. Macro-averaging is preferred over micro-averaging in this case of imbalanced classes because it weighs each of the classes equally and is not influenced by the number of examples of each class. I evaluated my models against macro-average recall and F1 score. In this case of a multi-label classification of thoracic pathology, I believe that the algorithm's ability to detect positive in any of the thirteen labels would help to alert or draw immediate attention from phyisicians on any abnormal thorax findings in a patient's CXR study. In another way, this can also help reporting physicians to better prioritize the order in which they should close the CXR report and intervene more timely, if necessary. Despite ResNet50 being the most overfited model, it yielded the highest macro-average recall and F1 score of 0.32 and 0.31 respectively. The poor performances yielded by all three models are not completely unexpected due to the following few reasons. One, the degree of underrepresented labels are consistently high across the thirteen labels. Two, the spatial dimensions of a CXR image are usually 2,000 by 3,000 pixels. A lot of details and information are lost when the CXR images are resized to 224 by 224 pixels."
   ]
  },
  {
   "cell_type": "markdown",
   "metadata": {},
   "source": [
    "## Conclusion \n",
    "\n",
    "With greater access to a graphic processing unit, my next step would be to fine-tune existing models and train them with CXR images in their dimensions. I would also like to address the issue of imbalanced labels by applying over-sampling technique such as Variational Autoencoders (VAE), Synthetic Minority Over-Sampling Technique (SMOTE) or Modified Synthetic Minority (MSMOTE). Collecting more CXR images of underrepresented labels is another viable way to address the issue of imbalanced labels but this take more time. Should there be signicant improvement to the performance of the models in future works, such computer-aided diagnosis can be extended to other medical specialties like Orthopaedics and Cardiology, where the use of X-Ray images to detect disease/defect is very common. In the context of Singapore, there still exists a gap between research and application of such deep learning algorithms in the field of computer-aided diagnosis. To overcome adoption barriers such as medicolegal, regulatory and patient-safety issues, it is imperative to design model with patient-safety at the core and test it on real-life cases in a safe and controlled environment."
   ]
  },
  {
   "cell_type": "markdown",
   "metadata": {},
   "source": [
    "#### References\n",
    "\n",
    "[1] Bloom B, Jones LI, Freeman G. Summary health statistics for U.S. children: National Health Interview Survey, 2012. National Center for Health Statistics. Vital Health Stat 10(258). 2013.\n",
    "\n",
    "[2] Blackwell DL, Lucas JW, Clarke TC. Summary health statistics for U.S. adults: National Health Interview Survey, 2012. National Center for Health Statistics. Vital Health Stat 10(260). 2014.\n",
    "\n",
    "[3] National Institutes of Health, National Heart, Lung, and Blood Institute (NHLBI). Morbidity and mortality: 2012 chart book on cardiovascular, lung and blood diseases. Bethesda, MD: NHLBI; 2012 Feb. Available from: https://www.nhlbi.nih.gov/files/docs/research/2012_ChartBook_508.pdf\n",
    "\n",
    "[4] National Institutes of Health, National Heart, Lung, and Blood Institute (NHLBI). Morbidity and mortality: 2009 chart book on cardiovascular, lung and blood diseases. Bethesda, MD: NHLBI; 2009 Oct. Available from: http://www.nhlbi.nih.gov/resources/docs/cht-book.htm\n",
    "\n",
    "[5] Xiaosong Wang, Yifan Peng, Le Lu, Zhiyong Lu, Mohammadhadi Bagheri, Ronald Summers, ChestX-ray8: Hospital-scale Chest X-ray Database and Benchmarks on Weakly-Supervised Classification and Localization of Common Thorax Diseases, IEEE CVPR, pp. 3462-3471, 2017\n",
    "\n",
    "[6] Hoo-chang Shin, Kirk Roberts, Le Lu, Dina Demner-Fushman, Jianhua Yao, Ronald M. Summers, Learning to Read Chest X-Rays: Recurrent Neural Cascade Model for Automated Image Annotation, IEEE CVPR, pp. 2497-2506, 2016\n",
    "\n",
    "[7] Open-i: An open access biomedical search engine. https: //openi.nlm.nih.gov"
   ]
  }
 ],
 "metadata": {
  "kernelspec": {
   "display_name": "Python 3",
   "language": "python",
   "name": "python3"
  },
  "language_info": {
   "codemirror_mode": {
    "name": "ipython",
    "version": 3
   },
   "file_extension": ".py",
   "mimetype": "text/x-python",
   "name": "python",
   "nbconvert_exporter": "python",
   "pygments_lexer": "ipython3",
   "version": "3.8.8"
  }
 },
 "nbformat": 4,
 "nbformat_minor": 4
}
